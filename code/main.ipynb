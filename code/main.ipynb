{
 "cells": [
  {
   "cell_type": "code",
   "execution_count": 1,
   "metadata": {},
   "outputs": [
    {
     "name": "stdout",
     "output_type": "stream",
     "text": [
      "1.7.0+cu101\n",
      "True\n"
     ]
    }
   ],
   "source": [
    "import os, sys, glob, shutil, json\n",
    "import cv2\n",
    "\n",
    "from PIL import Image\n",
    "from PIL import ImageChops\n",
    "from PIL import ImageFilter\n",
    "import numpy as np\n",
    "import pandas as pd\n",
    "\n",
    "from tqdm import tqdm\n",
    "import matplotlib.pyplot as plt\n",
    "\n",
    "import torch\n",
    "import torch.nn as nn\n",
    "import torchvision.models as models\n",
    "from torch.utils.data.dataset import Dataset\n",
    "from tensorboardX import SummaryWriter   # tensorboard\n",
    "import torchvision.transforms as transforms\n",
    "\n",
    "\n",
    "print(torch.__version__)\n",
    "print(torch.cuda.is_available())"
   ]
  },
  {
   "cell_type": "markdown",
   "metadata": {},
   "source": [
    "# 1. 简单获取样本信息"
   ]
  },
  {
   "cell_type": "code",
   "execution_count": 2,
   "metadata": {},
   "outputs": [
    {
     "name": "stdout",
     "output_type": "stream",
     "text": [
      "train image counts: 30000\n",
      "val image counts: 10000\n",
      "test image counts: 40000\n"
     ]
    }
   ],
   "source": [
    "# 统计train, val, test数据集的个数\n",
    "def data_summary():\n",
    "    train_list = glob.glob('../input/mchar_train/*.png')\n",
    "    val_list = glob.glob('../input/mchar_val/*.png')\n",
    "    test_list = glob.glob('../input/mchar_test_a/*.png')\n",
    "    print('train image counts: %d' % len(train_list))\n",
    "    print('val image counts: %d' % len(val_list))\n",
    "    print('test image counts: %d' % len(test_list))\n",
    "\n",
    "data_summary()"
   ]
  },
  {
   "cell_type": "code",
   "execution_count": 3,
   "metadata": {},
   "outputs": [
    {
     "name": "stdout",
     "output_type": "stream",
     "text": [
      "1个数字的图片数目: 4636\n",
      "2个数字的图片数目: 16262\n",
      "3个数字的图片数目: 7813\n",
      "4个数字的图片数目: 1280\n",
      "5个数字的图片数目: 8\n",
      "6个数字的图片数目: 1\n"
     ]
    }
   ],
   "source": [
    "# 统计图片分别含有数字的个数\n",
    "def label_summary():\n",
    "    marks = json.load(open('../input/mchar_train.json', 'r'))\n",
    "\n",
    "    dicts = {}\n",
    "    for img, mark in marks.items():\n",
    "        if len(mark['label']) not in dicts:\n",
    "            dicts[len(mark['label'])] = 0\n",
    "        dicts[len(mark['label'])] += 1\n",
    "\n",
    "    dicts = sorted(dicts.items(), key=lambda x: x[0])\n",
    "    for k, v in dicts:\n",
    "        print('%d个数字的图片数目: %d' % (k, v))\n",
    "\n",
    "label_summary()"
   ]
  },
  {
   "cell_type": "code",
   "execution_count": 4,
   "metadata": {},
   "outputs": [
    {
     "name": "stdout",
     "output_type": "stream",
     "text": [
      "First train photo info:\n",
      "{'height': [219, 219], 'label': [1, 9], 'left': [246, 323], 'top': [77, 81], 'width': [81, 96]}\n"
     ]
    }
   ],
   "source": [
    "# 看train数据集第一张的信息，长宽高等\n",
    "def first_photo_info():\n",
    "    train_json = json.load(open('../input/mchar_train.json'))\n",
    "    print(\"First train photo info:\")\n",
    "    print(train_json['000000.png'])\n",
    "\n",
    "first_photo_info()"
   ]
  },
  {
   "cell_type": "code",
   "execution_count": 5,
   "metadata": {},
   "outputs": [
    {
     "name": "stdout",
     "output_type": "stream",
     "text": [
      "    file_name  file_code\n",
      "0  000000.png          0\n",
      "1  000001.png          0\n",
      "2  000002.png          0\n",
      "3  000003.png          0\n",
      "4  000004.png          0\n"
     ]
    }
   ],
   "source": [
    "# 看需要输出文件的信息\n",
    "def look_submit():\n",
    "    df = pd.read_csv('../input/mchar_sample_submit_A.csv', sep=',')\n",
    "    print(df.head(5))\n",
    "\n",
    "look_submit()"
   ]
  },
  {
   "cell_type": "markdown",
   "metadata": {},
   "source": [
    "# 2. 训练阶段\n",
    "\n",
    "下面两个cell中：\n",
    "\n",
    "只运行第一个cell，不使用训练样本加权；\n",
    "\n",
    "只运行第二个cell，使用训练样本加权；"
   ]
  },
  {
   "cell_type": "markdown",
   "metadata": {},
   "source": [
    "### 无训练样本加权"
   ]
  },
  {
   "cell_type": "code",
   "execution_count": 6,
   "metadata": {},
   "outputs": [],
   "source": [
    "train_path = glob.glob('../input/mchar_train/*.png')\n",
    "train_path.sort()\n",
    "train_json = json.load(open('../input/mchar_train.json'))\n",
    "train_label = [train_json[x]['label'] for x in train_json]\n",
    "\n",
    "val_path = glob.glob('../input/mchar_val/*.png')\n",
    "val_path.sort()\n",
    "val_json = json.load(open('../input/mchar_val.json'))\n",
    "val_label = [val_json[x]['label'] for x in val_json]\n",
    "\n",
    "# BATCH_SIZE = 10\n",
    "BATCH_SIZE = 1000"
   ]
  },
  {
   "cell_type": "markdown",
   "metadata": {},
   "source": [
    "### 训练样本加权"
   ]
  },
  {
   "cell_type": "code",
   "execution_count": 7,
   "metadata": {},
   "outputs": [],
   "source": [
    "# 训练集样本加权\n",
    "# train_json = json.load(open('../input/mchar_train.json'))\n",
    "# train_label = []\n",
    "# train_path = []\n",
    "# for x in train_json:\n",
    "#     if len(train_json[x]['label']) in [1,2,4]:\n",
    "#         train_label.append(train_json[x]['label'])\n",
    "#         train_path.append(os.path.join('../input/mchar_train',x))\n",
    "#     if len(train_json[x]['label']) in [3]:\n",
    "#         train_label.append(train_json[x]['label'])\n",
    "#         train_label.append(train_json[x]['label'])\n",
    "#         train_path.append(os.path.join('../input/mchar_train',x))\n",
    "#         train_path.append(os.path.join('../input/mchar_train',x))\n",
    "\n",
    "\n",
    "# val_path = glob.glob('../input/mchar_val/*.png')\n",
    "# val_path.sort()\n",
    "# val_json = json.load(open('../input/mchar_val.json'))\n",
    "# val_label = [val_json[x]['label'] for x in val_json]\n",
    "\n",
    "# # BATCH_SIZE = 10\n",
    "# BATCH_SIZE = 1000"
   ]
  },
  {
   "cell_type": "markdown",
   "metadata": {},
   "source": [
    "##  2.1 dataset"
   ]
  },
  {
   "cell_type": "code",
   "execution_count": 8,
   "metadata": {},
   "outputs": [],
   "source": [
    "class SVHNDataset(Dataset):\n",
    "    def __init__(self, img_path, img_label, transform=None, train=True, test=False):\n",
    "        self.img_path = img_path\n",
    "        self.img_label = img_label\n",
    "        self.train = train\n",
    "        self.test = test\n",
    "        if transform is not None:\n",
    "            self.transform = transform\n",
    "        else:\n",
    "            self.transform = None\n",
    "\n",
    "    def __getitem__(self, index):\n",
    "        img = Image.open(self.img_path[index]).convert('RGB')\n",
    "        \n",
    "        if self.train and not self.test:\n",
    "            img = img.resize((128, 64))\n",
    "#             img = ImageChops.offset(img, np.random.randint(-35, 35), np.random.randint(-10, 10))  # 平移\n",
    "            img = ImageChops.offset(img, np.random.randint(-30, 30), np.random.randint(-20, 20))  # 平移\n",
    "            if np.random.randint(2):\n",
    "                img = img.filter(ImageFilter.BLUR)  # 图像模糊\n",
    "\n",
    "        if self.transform is not None:\n",
    "            img = self.transform(img)\n",
    "        \n",
    "        if self.img_label == None:\n",
    "            return img\n",
    "        else:\n",
    "            # 原始SVHN中类别10为填充的数字X, 最多字符为4\n",
    "            lbl = np.array(self.img_label[index], dtype=np.int)\n",
    "            lbl = list(lbl)  + (4 - len(lbl)) * [10]\n",
    "            return img, torch.from_numpy(np.array(lbl[:4]))\n",
    "\n",
    "    def __len__(self):\n",
    "        return len(self.img_path)\n",
    "\n",
    "\n",
    "train_loader = torch.utils.data.DataLoader(\n",
    "        SVHNDataset(train_path, train_label,\n",
    "                   transforms.Compose([\n",
    "                       transforms.Resize((64, 128)),\n",
    "                       transforms.RandomCrop((60, 120)),\n",
    "                       transforms.ColorJitter(0.3, 0.3, 0.2),\n",
    "                       transforms.RandomRotation(15),\n",
    "                       transforms.ToTensor(),\n",
    "                       transforms.Normalize([0.485, 0.456, 0.406], [0.229, 0.224, 0.225])\n",
    "            ]),train=True, test=False), \n",
    "    batch_size=BATCH_SIZE, # 每批样本个数\n",
    "    shuffle=True, # 是否打乱顺序\n",
    "    num_workers=10 # 读取的线程个数\n",
    ")\n",
    "\n",
    "    \n",
    "val_loader = torch.utils.data.DataLoader(\n",
    "    SVHNDataset(val_path, val_label,\n",
    "                    transforms.Compose([\n",
    "                        transforms.Resize((60, 120)),\n",
    "                        transforms.ToTensor(),\n",
    "                        transforms.Normalize([0.485, 0.456, 0.406], [0.229, 0.224, 0.225])\n",
    "            ]), train=False, test=True), \n",
    "    batch_size=BATCH_SIZE, \n",
    "    shuffle=False, \n",
    "    num_workers=10 \n",
    ")"
   ]
  },
  {
   "cell_type": "markdown",
   "metadata": {},
   "source": [
    "## 2.2 define model"
   ]
  },
  {
   "cell_type": "markdown",
   "metadata": {},
   "source": [
    "### baseline model"
   ]
  },
  {
   "cell_type": "code",
   "execution_count": 9,
   "metadata": {},
   "outputs": [],
   "source": [
    "class SVHN_Model0(nn.Module):\n",
    "    def __init__(self):\n",
    "        super(SVHN_Model0, self).__init__()\n",
    "        # CNN提取特征模块\n",
    "        self.cnn = nn.Sequential(\n",
    "            nn.Conv2d(3, 16, kernel_size=(3, 3), stride=(2, 2)),\n",
    "            nn.ReLU(),  \n",
    "            nn.MaxPool2d(2),\n",
    "            nn.Conv2d(16, 32, kernel_size=(3, 3), stride=(2, 2)),\n",
    "            nn.ReLU(), \n",
    "            nn.MaxPool2d(2),\n",
    "        )\n",
    "        # \n",
    "        self.fc1 = nn.Linear(32*3*7, 11)\n",
    "        self.fc2 = nn.Linear(32*3*7, 11)\n",
    "        self.fc3 = nn.Linear(32*3*7, 11)\n",
    "        self.fc4 = nn.Linear(32*3*7, 11)\n",
    "#         self.fc5 = nn.Linear(32*3*7, 11)\n",
    "    \n",
    "    def forward(self, img):        \n",
    "        feat = self.cnn(img)\n",
    "        feat = feat.view(feat.shape[0], -1)\n",
    "        c1 = self.fc1(feat)\n",
    "        c2 = self.fc2(feat)\n",
    "        c3 = self.fc3(feat)\n",
    "        c4 = self.fc4(feat)\n",
    "#         c5 = self.fc5(feat)\n",
    "#         return c1, c2, c3, c4, c5\n",
    "        return c1, c2, c3, c4"
   ]
  },
  {
   "cell_type": "markdown",
   "metadata": {},
   "source": [
    "### ResNet34 model"
   ]
  },
  {
   "cell_type": "code",
   "execution_count": 10,
   "metadata": {},
   "outputs": [],
   "source": [
    "# 定义模型\n",
    "class SVHN_Model1(nn.Module):\n",
    "    def __init__(self):\n",
    "        super(SVHN_Model1, self).__init__()\n",
    "         # CNN，提取特征\n",
    "        model_conv = models.resnet34(pretrained=True)\n",
    "        model_conv.avgpool = nn.AdaptiveAvgPool2d(1)  # 更改了resnet中的avgpool层\n",
    "        model_conv = nn.Sequential(*list(model_conv.children())[:-1])  # children获得网络的子层，list封装一下，[:-1]遍历全部元素\n",
    "        self.cnn = model_conv\n",
    "\n",
    "        # 全连接网络，分类\n",
    "        self.fc1 = nn.Linear(512, 11)\n",
    "        self.fc2 = nn.Linear(512, 11)\n",
    "        self.fc3 = nn.Linear(512, 11)\n",
    "        self.fc4 = nn.Linear(512, 11)\n",
    "#         self.fc5 = nn.Linear(512, 11)\n",
    "    \n",
    "    def forward(self, img):        \n",
    "        feat = self.cnn(img)\n",
    "        feat = feat.view(feat.shape[0], -1)\n",
    "        c1 = self.fc1(feat)\n",
    "        c2 = self.fc2(feat)\n",
    "        c3 = self.fc3(feat)\n",
    "        c4 = self.fc4(feat)\n",
    "#         c5 = self.fc5(feat)\n",
    "#         return c1, c2, c3, c4, c5\n",
    "        return c1, c2, c3, c4"
   ]
  },
  {
   "cell_type": "markdown",
   "metadata": {},
   "source": [
    "## 2.3 difine train and validate"
   ]
  },
  {
   "cell_type": "code",
   "execution_count": 11,
   "metadata": {},
   "outputs": [],
   "source": [
    "def train(train_loader, model, criterion, optimizer, epoch):\n",
    "    # 切换模型为训练模式\n",
    "    model.train()\n",
    "    train_loss = []\n",
    "\n",
    "    for (data, label) in tqdm(train_loader):\n",
    "        data = data.cuda()\n",
    "        label = label.cuda()\n",
    "#         c0, c1, c2, c3, c4 = model(data)\n",
    "        c0, c1, c2, c3 = model(data)\n",
    "          # sample weights\n",
    "#         loss = 2*criterion(c0, label[:, 0]) + \\\n",
    "#                 criterion(c1, label[:, 1]) + \\\n",
    "#                 2*criterion(c2, label[:, 2]) + \\\n",
    "#                 criterion(c3, label[:, 3])\n",
    "        \n",
    "        loss = criterion(c0, label[:, 0]) + \\\n",
    "                criterion(c1, label[:, 1]) + \\\n",
    "                criterion(c2, label[:, 2]) + \\\n",
    "                criterion(c3, label[:, 3])\n",
    "        \n",
    "        loss /= (4*BATCH_SIZE)\n",
    "        optimizer.zero_grad()\n",
    "        loss.backward()\n",
    "        optimizer.step()\n",
    "\n",
    "        train_loss.append(loss.item())\n",
    "    return np.mean(train_loss)\n",
    "\n",
    "\n",
    "def validate(val_loader, model, criterion):\n",
    "    # 切换模型为预测模型\n",
    "    model.eval()\n",
    "    val_loss = []\n",
    "    val_predict = []\n",
    "\n",
    "    # 不记录模型梯度信息\n",
    "    with torch.no_grad():\n",
    "        for (data, label) in tqdm(val_loader):\n",
    "            data = data.cuda()\n",
    "            label = label.cuda()\n",
    "            c0, c1, c2, c3 = model(data)\n",
    "#             c0, c1, c2, c3, c4 = model(data)\n",
    "\n",
    "            loss = criterion(c0, label[:, 0]) + \\\n",
    "                    criterion(c1, label[:, 1]) + \\\n",
    "                    criterion(c2, label[:, 2]) + \\\n",
    "                    criterion(c3, label[:, 3]) \n",
    "            loss /= (4*BATCH_SIZE)\n",
    "            val_loss.append(loss.item())\n",
    "            \n",
    "            # calculate validation accuracy\n",
    "            output = np.concatenate([\n",
    "                c0.data.cpu().numpy(),\n",
    "                c1.data.cpu().numpy(),\n",
    "                c2.data.cpu().numpy(),\n",
    "                c3.data.cpu().numpy()], axis=1)  # output: shape(batch, 44)\n",
    "            val_predict.append(output)        \n",
    "        val_predict = np.vstack(val_predict)\n",
    "        \n",
    "        val_predict = np.vstack([\n",
    "            val_predict[:, :11].argmax(1),\n",
    "            val_predict[:, 11:22].argmax(1),\n",
    "            val_predict[:, 22:33].argmax(1),\n",
    "            val_predict[:, 33:44].argmax(1)]).T\n",
    "        val_predict_label = list()\n",
    "        for x in val_predict:\n",
    "            val_predict_label.append(''.join(map(str, x[x!=10])))\n",
    "        val_label = [''.join(map(str, x)) for x in val_loader.dataset.img_label]\n",
    "        val_acc = np.mean(np.array(val_predict_label) == np.array(val_label))\n",
    "    return np.mean(val_loss), val_acc"
   ]
  },
  {
   "cell_type": "markdown",
   "metadata": {},
   "source": [
    "## 2.4 Train model"
   ]
  },
  {
   "cell_type": "code",
   "execution_count": 12,
   "metadata": {
    "scrolled": true
   },
   "outputs": [
    {
     "name": "stderr",
     "output_type": "stream",
     "text": [
      "/usr/local/anaconda3/envs/py36/lib/python3.6/site-packages/torch/nn/_reduction.py:44: UserWarning: size_average and reduce args will be deprecated, please use reduction='sum' instead.\n",
      "  warnings.warn(warning.format(ret))\n",
      "\r",
      "  0%|          | 0/30 [00:00<?, ?it/s]"
     ]
    },
    {
     "name": "stdout",
     "output_type": "stream",
     "text": [
      "Epoch: 0 /39\n"
     ]
    },
    {
     "name": "stderr",
     "output_type": "stream",
     "text": [
      "100%|██████████| 30/30 [00:11<00:00,  2.54it/s]\n",
      "100%|██████████| 10/10 [00:02<00:00,  3.39it/s]\n",
      "  0%|          | 0/30 [00:00<?, ?it/s]"
     ]
    },
    {
     "name": "stdout",
     "output_type": "stream",
     "text": [
      "Epoch: 1 /39\n"
     ]
    },
    {
     "name": "stderr",
     "output_type": "stream",
     "text": [
      "100%|██████████| 30/30 [00:10<00:00,  2.85it/s]\n",
      "100%|██████████| 10/10 [00:02<00:00,  3.37it/s]\n",
      "  0%|          | 0/30 [00:00<?, ?it/s]"
     ]
    },
    {
     "name": "stdout",
     "output_type": "stream",
     "text": [
      "Epoch: 2 /39\n"
     ]
    },
    {
     "name": "stderr",
     "output_type": "stream",
     "text": [
      "100%|██████████| 30/30 [00:10<00:00,  2.86it/s]\n",
      "100%|██████████| 10/10 [00:02<00:00,  3.34it/s]\n",
      "  0%|          | 0/30 [00:00<?, ?it/s]"
     ]
    },
    {
     "name": "stdout",
     "output_type": "stream",
     "text": [
      "Epoch: 3 /39\n"
     ]
    },
    {
     "name": "stderr",
     "output_type": "stream",
     "text": [
      "100%|██████████| 30/30 [00:10<00:00,  2.87it/s]\n",
      "100%|██████████| 10/10 [00:02<00:00,  3.37it/s]\n",
      "  0%|          | 0/30 [00:00<?, ?it/s]"
     ]
    },
    {
     "name": "stdout",
     "output_type": "stream",
     "text": [
      "Epoch: 4 /39\n"
     ]
    },
    {
     "name": "stderr",
     "output_type": "stream",
     "text": [
      "100%|██████████| 30/30 [00:10<00:00,  2.83it/s]\n",
      "100%|██████████| 10/10 [00:02<00:00,  3.37it/s]\n",
      "  0%|          | 0/30 [00:00<?, ?it/s]"
     ]
    },
    {
     "name": "stdout",
     "output_type": "stream",
     "text": [
      "Epoch: 5 /39\n"
     ]
    },
    {
     "name": "stderr",
     "output_type": "stream",
     "text": [
      "100%|██████████| 30/30 [00:10<00:00,  2.87it/s]\n",
      "100%|██████████| 10/10 [00:02<00:00,  3.34it/s]\n",
      "  0%|          | 0/30 [00:00<?, ?it/s]"
     ]
    },
    {
     "name": "stdout",
     "output_type": "stream",
     "text": [
      "Epoch: 6 /39\n"
     ]
    },
    {
     "name": "stderr",
     "output_type": "stream",
     "text": [
      "100%|██████████| 30/30 [00:10<00:00,  2.83it/s]\n",
      "100%|██████████| 10/10 [00:02<00:00,  3.37it/s]\n",
      "  0%|          | 0/30 [00:00<?, ?it/s]"
     ]
    },
    {
     "name": "stdout",
     "output_type": "stream",
     "text": [
      "Epoch: 7 /39\n"
     ]
    },
    {
     "name": "stderr",
     "output_type": "stream",
     "text": [
      "100%|██████████| 30/30 [00:10<00:00,  2.88it/s]\n",
      "100%|██████████| 10/10 [00:02<00:00,  3.38it/s]\n",
      "  0%|          | 0/30 [00:00<?, ?it/s]"
     ]
    },
    {
     "name": "stdout",
     "output_type": "stream",
     "text": [
      "Epoch: 8 /39\n"
     ]
    },
    {
     "name": "stderr",
     "output_type": "stream",
     "text": [
      "100%|██████████| 30/30 [00:10<00:00,  2.86it/s]\n",
      "100%|██████████| 10/10 [00:02<00:00,  3.38it/s]\n",
      "  0%|          | 0/30 [00:00<?, ?it/s]"
     ]
    },
    {
     "name": "stdout",
     "output_type": "stream",
     "text": [
      "Epoch: 9 /39\n"
     ]
    },
    {
     "name": "stderr",
     "output_type": "stream",
     "text": [
      "100%|██████████| 30/30 [00:10<00:00,  2.85it/s]\n",
      "100%|██████████| 10/10 [00:03<00:00,  3.32it/s]\n",
      "  0%|          | 0/30 [00:00<?, ?it/s]"
     ]
    },
    {
     "name": "stdout",
     "output_type": "stream",
     "text": [
      "Epoch: 10 /39\n"
     ]
    },
    {
     "name": "stderr",
     "output_type": "stream",
     "text": [
      "100%|██████████| 30/30 [00:10<00:00,  2.86it/s]\n",
      "100%|██████████| 10/10 [00:02<00:00,  3.38it/s]\n",
      "  0%|          | 0/30 [00:00<?, ?it/s]"
     ]
    },
    {
     "name": "stdout",
     "output_type": "stream",
     "text": [
      "Epoch: 11 /39\n"
     ]
    },
    {
     "name": "stderr",
     "output_type": "stream",
     "text": [
      "100%|██████████| 30/30 [00:10<00:00,  2.87it/s]\n",
      "100%|██████████| 10/10 [00:02<00:00,  3.38it/s]\n",
      "  0%|          | 0/30 [00:00<?, ?it/s]"
     ]
    },
    {
     "name": "stdout",
     "output_type": "stream",
     "text": [
      "Epoch: 12 /39\n"
     ]
    },
    {
     "name": "stderr",
     "output_type": "stream",
     "text": [
      "100%|██████████| 30/30 [00:10<00:00,  2.89it/s]\n",
      "100%|██████████| 10/10 [00:02<00:00,  3.39it/s]\n",
      "  0%|          | 0/30 [00:00<?, ?it/s]"
     ]
    },
    {
     "name": "stdout",
     "output_type": "stream",
     "text": [
      "Epoch: 13 /39\n"
     ]
    },
    {
     "name": "stderr",
     "output_type": "stream",
     "text": [
      "100%|██████████| 30/30 [00:10<00:00,  2.89it/s]\n",
      "100%|██████████| 10/10 [00:02<00:00,  3.36it/s]\n",
      "  0%|          | 0/30 [00:00<?, ?it/s]"
     ]
    },
    {
     "name": "stdout",
     "output_type": "stream",
     "text": [
      "Epoch: 14 /39\n"
     ]
    },
    {
     "name": "stderr",
     "output_type": "stream",
     "text": [
      "100%|██████████| 30/30 [00:10<00:00,  2.88it/s]\n",
      "100%|██████████| 10/10 [00:03<00:00,  3.32it/s]\n",
      "  0%|          | 0/30 [00:00<?, ?it/s]"
     ]
    },
    {
     "name": "stdout",
     "output_type": "stream",
     "text": [
      "Epoch: 15 /39\n"
     ]
    },
    {
     "name": "stderr",
     "output_type": "stream",
     "text": [
      "100%|██████████| 30/30 [00:10<00:00,  2.88it/s]\n",
      "100%|██████████| 10/10 [00:02<00:00,  3.36it/s]\n",
      "  0%|          | 0/30 [00:00<?, ?it/s]"
     ]
    },
    {
     "name": "stdout",
     "output_type": "stream",
     "text": [
      "Epoch: 16 /39\n"
     ]
    },
    {
     "name": "stderr",
     "output_type": "stream",
     "text": [
      "100%|██████████| 30/30 [00:10<00:00,  2.89it/s]\n",
      "100%|██████████| 10/10 [00:02<00:00,  3.37it/s]\n",
      "  0%|          | 0/30 [00:00<?, ?it/s]"
     ]
    },
    {
     "name": "stdout",
     "output_type": "stream",
     "text": [
      "Epoch: 17 /39\n"
     ]
    },
    {
     "name": "stderr",
     "output_type": "stream",
     "text": [
      "100%|██████████| 30/30 [00:10<00:00,  2.86it/s]\n",
      "100%|██████████| 10/10 [00:02<00:00,  3.39it/s]\n",
      "  0%|          | 0/30 [00:00<?, ?it/s]"
     ]
    },
    {
     "name": "stdout",
     "output_type": "stream",
     "text": [
      "Epoch: 18 /39\n"
     ]
    },
    {
     "name": "stderr",
     "output_type": "stream",
     "text": [
      "100%|██████████| 30/30 [00:10<00:00,  2.90it/s]\n",
      "100%|██████████| 10/10 [00:02<00:00,  3.38it/s]\n",
      "  0%|          | 0/30 [00:00<?, ?it/s]"
     ]
    },
    {
     "name": "stdout",
     "output_type": "stream",
     "text": [
      "Epoch: 19 /39\n"
     ]
    },
    {
     "name": "stderr",
     "output_type": "stream",
     "text": [
      "100%|██████████| 30/30 [00:10<00:00,  2.89it/s]\n",
      "100%|██████████| 10/10 [00:02<00:00,  3.34it/s]\n",
      "  0%|          | 0/30 [00:00<?, ?it/s]"
     ]
    },
    {
     "name": "stdout",
     "output_type": "stream",
     "text": [
      "Epoch: 20 /39\n"
     ]
    },
    {
     "name": "stderr",
     "output_type": "stream",
     "text": [
      "100%|██████████| 30/30 [00:10<00:00,  2.87it/s]\n",
      "100%|██████████| 10/10 [00:02<00:00,  3.40it/s]\n",
      "  0%|          | 0/30 [00:00<?, ?it/s]"
     ]
    },
    {
     "name": "stdout",
     "output_type": "stream",
     "text": [
      "Epoch: 21 /39\n"
     ]
    },
    {
     "name": "stderr",
     "output_type": "stream",
     "text": [
      "100%|██████████| 30/30 [00:10<00:00,  2.90it/s]\n",
      "100%|██████████| 10/10 [00:02<00:00,  3.39it/s]\n",
      "  0%|          | 0/30 [00:00<?, ?it/s]"
     ]
    },
    {
     "name": "stdout",
     "output_type": "stream",
     "text": [
      "Epoch: 22 /39\n"
     ]
    },
    {
     "name": "stderr",
     "output_type": "stream",
     "text": [
      "100%|██████████| 30/30 [00:10<00:00,  2.88it/s]\n",
      "100%|██████████| 10/10 [00:02<00:00,  3.37it/s]\n",
      "  0%|          | 0/30 [00:00<?, ?it/s]"
     ]
    },
    {
     "name": "stdout",
     "output_type": "stream",
     "text": [
      "Epoch: 23 /39\n"
     ]
    },
    {
     "name": "stderr",
     "output_type": "stream",
     "text": [
      "100%|██████████| 30/30 [00:10<00:00,  2.88it/s]\n",
      "100%|██████████| 10/10 [00:02<00:00,  3.44it/s]\n",
      "  0%|          | 0/30 [00:00<?, ?it/s]"
     ]
    },
    {
     "name": "stdout",
     "output_type": "stream",
     "text": [
      "Epoch: 24 /39\n"
     ]
    },
    {
     "name": "stderr",
     "output_type": "stream",
     "text": [
      "100%|██████████| 30/30 [00:10<00:00,  2.86it/s]\n",
      "100%|██████████| 10/10 [00:02<00:00,  3.36it/s]\n",
      "  0%|          | 0/30 [00:00<?, ?it/s]"
     ]
    },
    {
     "name": "stdout",
     "output_type": "stream",
     "text": [
      "Epoch: 25 /39\n"
     ]
    },
    {
     "name": "stderr",
     "output_type": "stream",
     "text": [
      "100%|██████████| 30/30 [00:10<00:00,  2.86it/s]\n",
      "100%|██████████| 10/10 [00:02<00:00,  3.36it/s]\n",
      "  0%|          | 0/30 [00:00<?, ?it/s]"
     ]
    },
    {
     "name": "stdout",
     "output_type": "stream",
     "text": [
      "Epoch: 26 /39\n"
     ]
    },
    {
     "name": "stderr",
     "output_type": "stream",
     "text": [
      "100%|██████████| 30/30 [00:10<00:00,  2.89it/s]\n",
      "100%|██████████| 10/10 [00:02<00:00,  3.37it/s]\n",
      "  0%|          | 0/30 [00:00<?, ?it/s]"
     ]
    },
    {
     "name": "stdout",
     "output_type": "stream",
     "text": [
      "Epoch: 27 /39\n"
     ]
    },
    {
     "name": "stderr",
     "output_type": "stream",
     "text": [
      "100%|██████████| 30/30 [00:10<00:00,  2.88it/s]\n",
      "100%|██████████| 10/10 [00:02<00:00,  3.39it/s]\n",
      "  0%|          | 0/30 [00:00<?, ?it/s]"
     ]
    },
    {
     "name": "stdout",
     "output_type": "stream",
     "text": [
      "Epoch: 28 /39\n"
     ]
    },
    {
     "name": "stderr",
     "output_type": "stream",
     "text": [
      "100%|██████████| 30/30 [00:10<00:00,  2.87it/s]\n",
      "100%|██████████| 10/10 [00:02<00:00,  3.39it/s]\n",
      "  0%|          | 0/30 [00:00<?, ?it/s]"
     ]
    },
    {
     "name": "stdout",
     "output_type": "stream",
     "text": [
      "Epoch: 29 /39\n"
     ]
    },
    {
     "name": "stderr",
     "output_type": "stream",
     "text": [
      "100%|██████████| 30/30 [00:10<00:00,  2.86it/s]\n",
      "100%|██████████| 10/10 [00:02<00:00,  3.40it/s]\n",
      "  0%|          | 0/30 [00:00<?, ?it/s]"
     ]
    },
    {
     "name": "stdout",
     "output_type": "stream",
     "text": [
      "Epoch: 30 /39\n"
     ]
    },
    {
     "name": "stderr",
     "output_type": "stream",
     "text": [
      "100%|██████████| 30/30 [00:10<00:00,  2.90it/s]\n",
      "100%|██████████| 10/10 [00:02<00:00,  3.44it/s]\n",
      "  0%|          | 0/30 [00:00<?, ?it/s]"
     ]
    },
    {
     "name": "stdout",
     "output_type": "stream",
     "text": [
      "Epoch: 31 /39\n"
     ]
    },
    {
     "name": "stderr",
     "output_type": "stream",
     "text": [
      "100%|██████████| 30/30 [00:10<00:00,  2.92it/s]\n",
      "100%|██████████| 10/10 [00:02<00:00,  3.43it/s]\n",
      "  0%|          | 0/30 [00:00<?, ?it/s]"
     ]
    },
    {
     "name": "stdout",
     "output_type": "stream",
     "text": [
      "Epoch: 32 /39\n"
     ]
    },
    {
     "name": "stderr",
     "output_type": "stream",
     "text": [
      "100%|██████████| 30/30 [00:10<00:00,  2.87it/s]\n",
      "100%|██████████| 10/10 [00:02<00:00,  3.36it/s]\n",
      "  0%|          | 0/30 [00:00<?, ?it/s]"
     ]
    },
    {
     "name": "stdout",
     "output_type": "stream",
     "text": [
      "Epoch: 33 /39\n"
     ]
    },
    {
     "name": "stderr",
     "output_type": "stream",
     "text": [
      "100%|██████████| 30/30 [00:10<00:00,  2.88it/s]\n",
      "100%|██████████| 10/10 [00:02<00:00,  3.37it/s]\n",
      "  0%|          | 0/30 [00:00<?, ?it/s]"
     ]
    },
    {
     "name": "stdout",
     "output_type": "stream",
     "text": [
      "Epoch: 34 /39\n"
     ]
    },
    {
     "name": "stderr",
     "output_type": "stream",
     "text": [
      "100%|██████████| 30/30 [00:10<00:00,  2.89it/s]\n",
      "100%|██████████| 10/10 [00:02<00:00,  3.42it/s]\n",
      "  0%|          | 0/30 [00:00<?, ?it/s]"
     ]
    },
    {
     "name": "stdout",
     "output_type": "stream",
     "text": [
      "Epoch: 35 /39\n"
     ]
    },
    {
     "name": "stderr",
     "output_type": "stream",
     "text": [
      "100%|██████████| 30/30 [00:10<00:00,  2.88it/s]\n",
      "100%|██████████| 10/10 [00:02<00:00,  3.37it/s]\n",
      "  0%|          | 0/30 [00:00<?, ?it/s]"
     ]
    },
    {
     "name": "stdout",
     "output_type": "stream",
     "text": [
      "Epoch: 36 /39\n"
     ]
    },
    {
     "name": "stderr",
     "output_type": "stream",
     "text": [
      "100%|██████████| 30/30 [00:10<00:00,  2.86it/s]\n",
      "100%|██████████| 10/10 [00:02<00:00,  3.38it/s]\n",
      "  0%|          | 0/30 [00:00<?, ?it/s]"
     ]
    },
    {
     "name": "stdout",
     "output_type": "stream",
     "text": [
      "Epoch: 37 /39\n"
     ]
    },
    {
     "name": "stderr",
     "output_type": "stream",
     "text": [
      "100%|██████████| 30/30 [00:10<00:00,  2.88it/s]\n",
      "100%|██████████| 10/10 [00:02<00:00,  3.36it/s]\n",
      "  0%|          | 0/30 [00:00<?, ?it/s]"
     ]
    },
    {
     "name": "stdout",
     "output_type": "stream",
     "text": [
      "Epoch: 38 /39\n"
     ]
    },
    {
     "name": "stderr",
     "output_type": "stream",
     "text": [
      "100%|██████████| 30/30 [00:10<00:00,  2.86it/s]\n",
      "100%|██████████| 10/10 [00:02<00:00,  3.39it/s]\n",
      "  0%|          | 0/30 [00:00<?, ?it/s]"
     ]
    },
    {
     "name": "stdout",
     "output_type": "stream",
     "text": [
      "Epoch: 39 /39\n"
     ]
    },
    {
     "name": "stderr",
     "output_type": "stream",
     "text": [
      "100%|██████████| 30/30 [00:10<00:00,  2.88it/s]\n",
      "100%|██████████| 10/10 [00:02<00:00,  3.35it/s]\n"
     ]
    },
    {
     "name": "stdout",
     "output_type": "stream",
     "text": [
      "\n",
      "runing time: 0:09:04.509833\n"
     ]
    }
   ],
   "source": [
    "# load model\n",
    "# model.load_state_dict(torch.load('model_end.pt'))\n",
    "\n",
    "torch.manual_seed(0)\n",
    "torch.backends.cudnn.deterministic = False\n",
    "torch.backends.cudnn.benchmark = True\n",
    "\n",
    "model = SVHN_Model1().cuda()\n",
    "# 损失函数\n",
    "criterion = nn.CrossEntropyLoss(size_average=False)\n",
    "# 优化器\n",
    "optimizer = torch.optim.Adam(model.parameters(), 0.001, weight_decay=0.002)\n",
    "# optimizer = torch.optim.Adam(model.parameters(), 0.001)\n",
    "best_loss = 1000.0\n",
    "\n",
    "\n",
    "train_loss_plot = list()\n",
    "val_loss_plot = list()\n",
    "val_acc_plot = list()\n",
    "\n",
    "# writer = SummaryWriter('log')\n",
    "writer = SummaryWriter()\n",
    "\n",
    "from datetime import datetime\n",
    "now = datetime.now()\n",
    "\n",
    "for epoch in range(40):\n",
    "    print('Epoch:', epoch, '/39')\n",
    "    if epoch == 15: optimizer = torch.optim.Adam(model.parameters(), 0.0001, weight_decay=0.002)\n",
    "    if epoch == 25: optimizer = torch.optim.Adam(model.parameters(), 0.00001, weight_decay=0.002)\n",
    "#     if epoch == 35: optimizer = torch.optim.Adam(model.parameters(), 0.00001, weight_decay=0.0005)\n",
    "\n",
    "    train_loss = train(train_loader, model, criterion, optimizer, epoch)\n",
    "    val_loss, val_acc = validate(val_loader, model, criterion)# val_predict: shape(10000, 44)\n",
    "\n",
    "    \n",
    "    # 记录下验证集精度\n",
    "    if val_loss < best_loss:\n",
    "        best_loss = val_loss\n",
    "        torch.save(model.state_dict(), './model_best.pt')\n",
    "    \n",
    "    train_loss_plot.append(train_loss)\n",
    "    val_loss_plot.append(val_loss)\n",
    "    val_acc_plot.append(val_acc)\n",
    "    writer.add_scalar('Loss/train', float(train_loss), epoch)\n",
    "    writer.add_scalar('Loss/validation', float(val_loss), epoch)\n",
    "    writer.add_scalar('val_acc', float(val_acc), epoch)\n",
    "\n",
    "writer.close()\n",
    "torch.save(model.state_dict(), './model_end.pt')\n",
    "\n",
    "print(\"\\nruning time:\", datetime.now() - now)"
   ]
  },
  {
   "cell_type": "markdown",
   "metadata": {},
   "source": [
    "## 2.5 Plot loss and accuracy"
   ]
  },
  {
   "cell_type": "code",
   "execution_count": 13,
   "metadata": {},
   "outputs": [
    {
     "data": {
      "image/png": "[encoded data removed]",
      "text/plain": [
       "<Figure size 432x288 with 1 Axes>"
      ]
     },
     "metadata": {
      "needs_background": "light"
     },
     "output_type": "display_data"
    },
    {
     "data": {
      "image/png": "[encoded data removed]",
      "text/plain": [
       "<Figure size 432x288 with 1 Axes>"
      ]
     },
     "metadata": {
      "needs_background": "light"
     },
     "output_type": "display_data"
    },
    {
     "data": {
      "image/png": "[encoded data removed]",
      "text/plain": [
       "<Figure size 432x288 with 1 Axes>"
      ]
     },
     "metadata": {
      "needs_background": "light"
     },
     "output_type": "display_data"
    },
    {
     "name": "stdout",
     "output_type": "stream",
     "text": [
      "\n",
      "train_loss: [1.413496239980062, 0.9836617588996888, 0.7777472376823426, 0.6763895253340403, 0.6090225120385487, 0.5701543033123017, 0.5419283787409465, 0.5256408890088399, 0.5057778159777323, 0.4900642017523448, 0.4871473322312037, 0.4777562459309896, 0.4659560312827428, 0.45932700832684836, 0.45491883158683777, 0.3793445994456609, 0.3429139713446299, 0.32986054122447966, 0.32169615228970844, 0.3130987038215001, 0.30625282824039457, 0.30431928634643557, 0.29694238205750784, 0.2920198947191238, 0.2889046827952067, 0.2761162141958872, 0.26922240952650706, 0.2672285174330076, 0.26376947859923044, 0.26063103079795835, 0.2624988953272502, 0.26239150365193686, 0.260493078827858, 0.25790369510650635, 0.2586543336510658, 0.25787331312894823, 0.2556500459710757, 0.2544091204802195, 0.2548128937681516, 0.2514434819420179] \n",
      "\n",
      "max: 1.413496239980062\n",
      "\n",
      "val_loss: [1.1448170304298402, 0.9898936569690704, 0.858983725309372, 0.8995077252388001, 0.808467423915863, 0.7263594806194306, 0.7128963589668273, 0.7145035684108734, 0.6678260862827301, 0.6559729278087616, 0.6736583232879638, 0.7616592824459076, 0.6655101358890534, 0.7050979733467102, 0.6443295061588288, 0.5369754076004029, 0.5282001733779907, 0.5279125332832336, 0.5115002453327179, 0.5189777046442032, 0.5042553246021271, 0.5094342470169068, 0.510030347108841, 0.5056641697883606, 0.5299259781837463, 0.4967580735683441, 0.5010472178459168, 0.5024523943662643, 0.4981142163276672, 0.5010194897651672, 0.49383140206336973, 0.49792582988739015, 0.49462992548942564, 0.4968922883272171, 0.49603615403175355, 0.4968380779027939, 0.4949178695678711, 0.49521708488464355, 0.496700245141983, 0.49473077356815337] \n",
      "\n",
      "max: 1.1448170304298402\n",
      "\n",
      "val_acc: [0.1062, 0.165, 0.2948, 0.333, 0.3465, 0.4232, 0.4401, 0.4541, 0.4974, 0.4895, 0.4796, 0.4525, 0.4969, 0.4909, 0.5136, 0.5963, 0.6077, 0.6073, 0.6167, 0.6212, 0.6251, 0.6213, 0.6215, 0.6262, 0.6108, 0.6314, 0.6326, 0.6314, 0.6358, 0.6347, 0.6375, 0.6373, 0.6363, 0.6358, 0.6356, 0.6352, 0.6373, 0.6366, 0.6358, 0.6361] \n",
      "\n",
      "max: 0.6375\n"
     ]
    }
   ],
   "source": [
    "plt.plot(train_loss_plot)\n",
    "plt.xlabel(\"Epoch\")\n",
    "plt.ylabel(\"train_loss\")\n",
    "plt.show()\n",
    "\n",
    "plt.plot(val_loss_plot)\n",
    "plt.xlabel(\"Epoch\")\n",
    "plt.ylabel(\"val_loss\")\n",
    "plt.show()\n",
    "\n",
    "plt.plot(val_acc_plot)\n",
    "plt.xlabel(\"Epoch\")\n",
    "plt.ylabel(\"val_acc\")\n",
    "plt.show()\n",
    "\n",
    "print(\"\\ntrain_loss:\", train_loss_plot, \"\\n\\nmax:\", max(train_loss_plot))\n",
    "print(\"\\nval_loss:\", val_loss_plot, \"\\n\\nmax:\", max(val_loss_plot))\n",
    "print(\"\\nval_acc:\", val_acc_plot, \"\\n\\nmax:\", max(val_acc_plot))"
   ]
  },
  {
   "cell_type": "markdown",
   "metadata": {},
   "source": [
    "# 3. 测试阶段"
   ]
  },
  {
   "cell_type": "markdown",
   "metadata": {},
   "source": [
    "## 3.1 Test dataset and predict"
   ]
  },
  {
   "cell_type": "code",
   "execution_count": 14,
   "metadata": {},
   "outputs": [
    {
     "name": "stderr",
     "output_type": "stream",
     "text": [
      "100%|██████████| 40/40 [00:05<00:00,  6.86it/s]\n"
     ]
    }
   ],
   "source": [
    "test_path = glob.glob('../input/mchar_test_a/*.png')\n",
    "test_path.sort()\n",
    "test_label = None\n",
    "\n",
    "\n",
    "test_loader = torch.utils.data.DataLoader(\n",
    "        SVHNDataset(test_path, test_label,\n",
    "                   transforms.Compose([\n",
    "                       transforms.Resize((60, 120)),\n",
    "                       transforms.ToTensor(),\n",
    "                       transforms.Normalize([0.485, 0.456, 0.406], [0.229, 0.224, 0.225])\n",
    "            ]), train=False, test=True), \n",
    "    batch_size=BATCH_SIZE, # 每批样本个数\n",
    "    shuffle=False, # 是否打乱顺序\n",
    "    num_workers=10, # 读取的线程个数\n",
    ")\n",
    "\n",
    "\n",
    "def predict(test_loader, model):\n",
    "    model.eval()\n",
    "\n",
    "    test_pred = []\n",
    "    with torch.no_grad():\n",
    "        for input in tqdm(test_loader):\n",
    "            input = input.cuda()\n",
    "\n",
    "            c0, c1, c2, c3 = model(input)\n",
    "            output = np.concatenate([\n",
    "                c0.data.cpu().numpy(),\n",
    "                c1.data.cpu().numpy(),\n",
    "                c2.data.cpu().numpy(),\n",
    "                c3.data.cpu().numpy()], axis = 1)\n",
    "            test_pred.append(output)\n",
    "        test_pred = np.vstack(test_pred)\n",
    "        test_pred = np.vstack([\n",
    "            test_pred[:, :11].argmax(1),\n",
    "            test_pred[:, 11:22].argmax(1),\n",
    "            test_pred[:, 22:33].argmax(1),\n",
    "            test_pred[:, 33:44].argmax(1)]).T\n",
    "        \n",
    "        test_predict_label = list()        \n",
    "        for x in test_pred:\n",
    "            test_predict_label.append(''.join(map(str, x[x!=10])))\n",
    "    return test_predict_label\n",
    "\n",
    "\n",
    "# load model\n",
    "model.load_state_dict(torch.load('model_best.pt'))\n",
    "submit = predict(test_loader, model)"
   ]
  },
  {
   "cell_type": "markdown",
   "metadata": {},
   "source": [
    "## 3.2 写入csv文件"
   ]
  },
  {
   "cell_type": "code",
   "execution_count": 15,
   "metadata": {},
   "outputs": [
    {
     "name": "stdout",
     "output_type": "stream",
     "text": [
      "save success!\n"
     ]
    }
   ],
   "source": [
    "df_submit = pd.read_csv('../input/mchar_sample_submit_A.csv')\n",
    "df_submit['file_code'] = submit\n",
    "df_submit.to_csv('submit.csv', index=None)\n",
    "print(\"save success!\")"
   ]
  },
  {
   "cell_type": "code",
   "execution_count": null,
   "metadata": {},
   "outputs": [],
   "source": []
  }
 ],
 "metadata": {
  "interpreter": {
   "hash": "f3b9b828f383373597d353e22ddc5577ec47150a1819a90192bb3706a239b968"
  },
  "kernelspec": {
   "display_name": "Python 3",
   "language": "python",
   "name": "python3"
  },
  "language_info": {
   "codemirror_mode": {
    "name": "ipython",
    "version": 3
   },
   "file_extension": ".py",
   "mimetype": "text/x-python",
   "name": "python",
   "nbconvert_exporter": "python",
   "pygments_lexer": "ipython3",
   "version": "3.6.12"
  }
 },
 "nbformat": 4,
 "nbformat_minor": 2
}
