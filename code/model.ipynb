{
 "cells": [
  {
   "cell_type": "code",
   "execution_count": 1,
   "metadata": {},
   "outputs": [
    {
     "name": "stdout",
     "output_type": "stream",
     "text": [
      "1.7.0+cu101\n",
      "True\n"
     ]
    }
   ],
   "source": [
    "import os, sys, glob, shutil, json\n",
    "import cv2\n",
    "\n",
    "from PIL import Image\n",
    "from PIL import ImageFilter\n",
    "\n",
    "import numpy as np\n",
    "import pandas as pd\n",
    "from datetime import datetime\n",
    "\n",
    "from tqdm import tqdm\n",
    "import matplotlib.pyplot as plt\n",
    "\n",
    "import torch\n",
    "torch.manual_seed(0)\n",
    "torch.backends.cudnn.deterministic = False\n",
    "torch.backends.cudnn.benchmark = True\n",
    "import torch.nn as nn\n",
    "import torch.nn.functional as F\n",
    "from torch.utils.data.dataset import Dataset\n",
    "import torchvision.transforms as transforms\n",
    "import torchvision.models as models\n",
    "\n",
    "print(torch.__version__)\n",
    "print(torch.cuda.is_available())"
   ]
  },
  {
   "cell_type": "markdown",
   "metadata": {},
   "source": [
    "# load data"
   ]
  },
  {
   "cell_type": "code",
   "execution_count": 2,
   "metadata": {
    "tags": []
   },
   "outputs": [],
   "source": [
    "fixed_length_str = 4\n",
    "BATCH_SIZE = 1000\n",
    "\n",
    "class SVHNDataset(Dataset):\n",
    "    def __init__(self, img_path, img_label, transform=None):\n",
    "        self.img_path = img_path\n",
    "        self.img_label = img_label \n",
    "        if transform is not None:\n",
    "            self.transform = transform\n",
    "        else:\n",
    "            self.transform = None\n",
    "\n",
    "    def __getitem__(self, index):\n",
    "        img = Image.open(self.img_path[index]).convert('RGB')\n",
    "\n",
    "        img = img.filter(ImageFilter.BLUR)\n",
    "\n",
    "        if self.transform is not None:\n",
    "            img = self.transform(img)\n",
    "\n",
    "        if self.img_label == None:\n",
    "            return img\n",
    "        else:\n",
    "            # 原始SVHN中类别10为填充的数字X, 最多字符为4\n",
    "            lbl = np.array(self.img_label[index], dtype=np.int)\n",
    "            lbl = list(lbl)  + (fixed_length_str - len(lbl)) * [10]\n",
    "            \n",
    "            return img, torch.from_numpy(np.array(lbl[:fixed_length_str]))\n",
    "\n",
    "    def __len__(self):\n",
    "        return len(self.img_path)\n",
    "\n",
    "\n",
    "train_path = glob.glob('../input/mchar_train/*.png')\n",
    "train_path.sort()\n",
    "train_json = json.load(open('../input/mchar_train.json'))\n",
    "train_label = [train_json[x]['label'] for x in train_json]\n",
    "\n",
    "val_path = glob.glob('../input/mchar_val/*.png')\n",
    "val_path.sort()\n",
    "val_json = json.load(open('../input/mchar_val.json'))\n",
    "val_label = [val_json[x]['label'] for x in val_json]\n",
    "\n",
    "test_path = glob.glob('../input/mchar_test_a/*.png')\n",
    "test_path.sort()\n",
    "test_label = None\n",
    "\n",
    "\n",
    "train_loader = torch.utils.data.DataLoader(\n",
    "        SVHNDataset(train_path, train_label,\n",
    "                   transforms.Compose([\n",
    "                       transforms.Resize((64, 128)),\n",
    "                       transforms.RandomCrop((60, 120)),\n",
    "                       transforms.ColorJitter(0.3, 0.3, 0.2),\n",
    "                       transforms.RandomRotation(10),\n",
    "                       transforms.ToTensor(),\n",
    "                       transforms.Normalize([0.485, 0.456, 0.406], [0.229, 0.224, 0.225])\n",
    "            ])), \n",
    "    batch_size=BATCH_SIZE, # 每批样本个数\n",
    "    shuffle=True, # 是否打乱顺序\n",
    "    num_workers=10, # 读取的线程个数\n",
    ")\n",
    "\n",
    "    \n",
    "val_loader = torch.utils.data.DataLoader(\n",
    "    SVHNDataset(val_path, val_label,\n",
    "                    transforms.Compose([\n",
    "                       transforms.Resize((60, 120)),\n",
    "                    #    transforms.RandomCrop((60, 120)),\n",
    "                    #    transforms.ColorJitter(0.3, 0.3, 0.2),\n",
    "                    #    transforms.RandomRotation(5),\n",
    "                       transforms.ToTensor(),\n",
    "                       transforms.Normalize([0.485, 0.456, 0.406], [0.229, 0.224, 0.225])\n",
    "            ])), \n",
    "    batch_size=BATCH_SIZE, \n",
    "    shuffle=False, \n",
    "    num_workers=10, \n",
    ")\n",
    "\n",
    "test_loader = torch.utils.data.DataLoader(\n",
    "        SVHNDataset(test_path, test_label,\n",
    "                   transforms.Compose([\n",
    "                       transforms.Resize((68, 138)),\n",
    "                       transforms.RandomCrop((64, 128)),\n",
    "                    #    transforms.ColorJitter(0.3, 0.3, 0.2),\n",
    "                    #    transforms.RandomRotation(5),\n",
    "                       transforms.ToTensor(),\n",
    "                       transforms.Normalize([0.485, 0.456, 0.406], [0.229, 0.224, 0.225])\n",
    "            ])), \n",
    "    batch_size=BATCH_SIZE, # 每批样本个数\n",
    "    shuffle=False, # 是否打乱顺序\n",
    "    num_workers=10, # 读取的线程个数\n",
    ")"
   ]
  },
  {
   "cell_type": "markdown",
   "metadata": {},
   "source": [
    "# model"
   ]
  },
  {
   "cell_type": "code",
   "execution_count": 3,
   "metadata": {},
   "outputs": [
    {
     "name": "stderr",
     "output_type": "stream",
     "text": [
      "/usr/local/anaconda3/envs/py36/lib/python3.6/site-packages/torch/nn/_reduction.py:44: UserWarning: size_average and reduce args will be deprecated, please use reduction='sum' instead.\n",
      "  warnings.warn(warning.format(ret))\n"
     ]
    }
   ],
   "source": [
    "class SVHN_Model2(nn.Module):\n",
    "    def __init__(self):\n",
    "        super(SVHN_Model2, self).__init__()\n",
    "        # CNN提取特征模块\n",
    "        # resnet18\n",
    "        model_conv = models.resnet18(pretrained=True)\n",
    "        model_conv.avgpool = nn.AdaptiveAvgPool2d(1)\n",
    "        model_conv = nn.Sequential(*list(model_conv.children())[:-1])  # 去除最后一个fc layer\n",
    "        self.cnn = model_conv\n",
    "        # \n",
    "        # self.hd_fc1 = nn.Linear(512, 128)\n",
    "        # self.hd_fc2 = nn.Linear(512, 128)\n",
    "        # self.hd_fc3 = nn.Linear(512, 128)\n",
    "        # self.hd_fc4 = nn.Linear(512, 128)\n",
    "        # self.dropout_1 = nn.Dropout(0.25)\n",
    "        # self.dropout_2 = nn.Dropout(0.25)\n",
    "        # self.dropout_3 = nn.Dropout(0.25)\n",
    "        # self.dropout_4 = nn.Dropout(0.25)\n",
    "        # self.fc1 = nn.Linear(128, 11)\n",
    "        # self.fc2 = nn.Linear(128, 11)\n",
    "        # self.fc3 = nn.Linear(128, 11)\n",
    "        # self.fc4 = nn.Linear(128, 11)\n",
    "        self.fc1 = nn.Linear(512, 11)\n",
    "        self.fc2 = nn.Linear(512, 11)\n",
    "        self.fc3 = nn.Linear(512, 11)\n",
    "        self.fc4 = nn.Linear(512, 11)\n",
    "    \n",
    "    def forward(self, img):        \n",
    "        feat = self.cnn(img)\n",
    "        feat = feat.view(feat.shape[0], -1)\n",
    "\n",
    "        # feat1 = self.hd_fc1(feat)\n",
    "        # feat2 = self.hd_fc2(feat)\n",
    "        # feat3 = self.hd_fc3(feat)\n",
    "        # feat4 = self.hd_fc4(feat)\n",
    "        # feat1 = self.dropout_1(feat1)\n",
    "        # feat2 = self.dropout_2(feat2)\n",
    "        # feat3 = self.dropout_3(feat3)\n",
    "        # feat4 = self.dropout_4(feat4)\n",
    "\n",
    "        # c1 = self.fc1(feat1)\n",
    "        # c2 = self.fc2(feat2)\n",
    "        # c3 = self.fc3(feat3)\n",
    "        # c4 = self.fc4(feat4)\n",
    "        c1 = self.fc1(feat)\n",
    "        c2 = self.fc2(feat)\n",
    "        c3 = self.fc3(feat)\n",
    "        c4 = self.fc4(feat)\n",
    "\n",
    "        return c1, c2, c3, c4\n",
    "\n",
    "\n",
    "model = SVHN_Model2().cuda()\n",
    "model=nn.DataParallel(model)    # dp多卡跑代码\n",
    "# 损失函数\n",
    "criterion = nn.CrossEntropyLoss(size_average=False)\n",
    "# 优化器\n",
    "optimizer = torch.optim.Adam(model.parameters(), lr=0.001, weight_decay=0.0005)\n",
    "best_loss = 1000.0\n",
    "\n",
    "\n",
    "train_loss_plot = list()\n",
    "val_loss_plot = list()"
   ]
  },
  {
   "cell_type": "code",
   "execution_count": 4,
   "metadata": {},
   "outputs": [],
   "source": [
    "def train(train_loader, model, criterion, optimizer, epoch):\n",
    "    # 切换模型为训练模式\n",
    "    model.train()\n",
    "    train_loss = []\n",
    "\n",
    "    for step, (input, target) in enumerate(tqdm(train_loader)):\n",
    "        input = input.cuda()\n",
    "        target = target.type(torch.cuda.LongTensor)\n",
    "\n",
    "        c0, c1, c2, c3 = model(input)\n",
    "        loss = criterion(c0, target[:, 0]) + \\\n",
    "                criterion(c1, target[:, 1]) + \\\n",
    "                criterion(c2, target[:, 2]) + \\\n",
    "                criterion(c3, target[:, 3])\n",
    "        loss /= (fixed_length_str*BATCH_SIZE)\n",
    "        optimizer.zero_grad()\n",
    "        loss.backward()\n",
    "        optimizer.step()\n",
    "\n",
    "        train_loss.append(loss.item())\n",
    "    return np.mean(train_loss)\n",
    "\n",
    "\n",
    "def validate(val_loader, model, criterion):\n",
    "    # 切换模型为预测模型\n",
    "    model.eval()\n",
    "    val_loss = []\n",
    "    # val_pred = []\n",
    "\n",
    "    # 不计算梯度，也不进行反向传播\n",
    "    with torch.no_grad():\n",
    "        for step, (input, target) in enumerate(val_loader):\n",
    "            input = input.cuda()\n",
    "            target = target.type(torch.cuda.LongTensor)\n",
    "\n",
    "            c0, c1, c2, c3 = model(input)\n",
    "\n",
    "            loss = criterion(c0, target[:, 0]) + \\\n",
    "                    criterion(c1, target[:, 1]) + \\\n",
    "                    criterion(c2, target[:, 2]) + \\\n",
    "                    criterion(c3, target[:, 3])\n",
    "            loss /= (fixed_length_str*BATCH_SIZE)\n",
    "            val_loss.append(loss.item())\n",
    "\n",
    "    #         output = np.concatenate([\n",
    "    #                 c0.data.cpu().numpy(),\n",
    "    #                 c1.data.cpu().numpy(),\n",
    "    #                 c2.data.cpu().numpy(),\n",
    "    #                 c3.data.cpu().numpy()], axis = 1)\n",
    "    #         val_pred.append(output)\n",
    "\n",
    "    # val_pred = np.vstack(val_pred)\n",
    "\n",
    "    return np.mean(val_loss)\n",
    "\n",
    "\n",
    "def predict(test_loader, model, tta=10):\n",
    "    model.eval()\n",
    "    test_pred_tta = None\n",
    "    # TTA 次数\n",
    "    for _ in range(tta):\n",
    "        test_pred = []\n",
    "        with torch.no_grad():\n",
    "            for input in test_loader:\n",
    "                input = input.cuda()\n",
    "\n",
    "                c0, c1, c2, c3 = model(input)\n",
    "                output = np.concatenate([\n",
    "                    c0.data.cpu().numpy(),\n",
    "                    c1.data.cpu().numpy(),\n",
    "                    c2.data.cpu().numpy(),\n",
    "                    c3.data.cpu().numpy()], axis = 1)\n",
    "                test_pred.append(output)\n",
    "        \n",
    "        test_pred = np.vstack(test_pred)\n",
    "        if test_pred_tta is None:\n",
    "            test_pred_tta = test_pred\n",
    "        else:\n",
    "            test_pred_tta += test_pred\n",
    "    \n",
    "    return test_pred_tta"
   ]
  },
  {
   "cell_type": "code",
   "execution_count": null,
   "metadata": {},
   "outputs": [],
   "source": [
    "# model.load_state_dict(torch.load('model.pt'))"
   ]
  },
  {
   "cell_type": "markdown",
   "metadata": {},
   "source": [
    "# Train"
   ]
  },
  {
   "cell_type": "code",
   "execution_count": 6,
   "metadata": {},
   "outputs": [
    {
     "name": "stderr",
     "output_type": "stream",
     "text": [
      "\r",
      "  0%|          | 0/30 [00:00<?, ?it/s]"
     ]
    },
    {
     "name": "stdout",
     "output_type": "stream",
     "text": [
      "Epoch:  0\n"
     ]
    },
    {
     "name": "stderr",
     "output_type": "stream",
     "text": [
      "100%|██████████| 30/30 [00:14<00:00,  2.01it/s]\n",
      "  0%|          | 0/30 [00:00<?, ?it/s]"
     ]
    },
    {
     "name": "stdout",
     "output_type": "stream",
     "text": [
      "Epoch:  1\n"
     ]
    },
    {
     "name": "stderr",
     "output_type": "stream",
     "text": [
      "100%|██████████| 30/30 [00:08<00:00,  3.69it/s]\n",
      "  0%|          | 0/30 [00:00<?, ?it/s]"
     ]
    },
    {
     "name": "stdout",
     "output_type": "stream",
     "text": [
      "Epoch:  2\n"
     ]
    },
    {
     "name": "stderr",
     "output_type": "stream",
     "text": [
      "100%|██████████| 30/30 [00:08<00:00,  3.57it/s]\n",
      "  0%|          | 0/30 [00:00<?, ?it/s]"
     ]
    },
    {
     "name": "stdout",
     "output_type": "stream",
     "text": [
      "Epoch:  3\n"
     ]
    },
    {
     "name": "stderr",
     "output_type": "stream",
     "text": [
      "100%|██████████| 30/30 [00:08<00:00,  3.56it/s]\n",
      "  0%|          | 0/30 [00:00<?, ?it/s]"
     ]
    },
    {
     "name": "stdout",
     "output_type": "stream",
     "text": [
      "Epoch:  4\n"
     ]
    },
    {
     "name": "stderr",
     "output_type": "stream",
     "text": [
      "100%|██████████| 30/30 [00:08<00:00,  3.67it/s]\n",
      "  0%|          | 0/30 [00:00<?, ?it/s]"
     ]
    },
    {
     "name": "stdout",
     "output_type": "stream",
     "text": [
      "Epoch:  5\n"
     ]
    },
    {
     "name": "stderr",
     "output_type": "stream",
     "text": [
      "100%|██████████| 30/30 [00:08<00:00,  3.59it/s]\n",
      "  0%|          | 0/30 [00:00<?, ?it/s]"
     ]
    },
    {
     "name": "stdout",
     "output_type": "stream",
     "text": [
      "Epoch:  6\n"
     ]
    },
    {
     "name": "stderr",
     "output_type": "stream",
     "text": [
      "100%|██████████| 30/30 [00:08<00:00,  3.66it/s]\n",
      "  0%|          | 0/30 [00:00<?, ?it/s]"
     ]
    },
    {
     "name": "stdout",
     "output_type": "stream",
     "text": [
      "Epoch:  7\n"
     ]
    },
    {
     "name": "stderr",
     "output_type": "stream",
     "text": [
      "100%|██████████| 30/30 [00:08<00:00,  3.65it/s]\n",
      "  0%|          | 0/30 [00:00<?, ?it/s]"
     ]
    },
    {
     "name": "stdout",
     "output_type": "stream",
     "text": [
      "Epoch:  8\n"
     ]
    },
    {
     "name": "stderr",
     "output_type": "stream",
     "text": [
      "100%|██████████| 30/30 [00:08<00:00,  3.55it/s]\n",
      "  0%|          | 0/30 [00:00<?, ?it/s]"
     ]
    },
    {
     "name": "stdout",
     "output_type": "stream",
     "text": [
      "Epoch:  9\n"
     ]
    },
    {
     "name": "stderr",
     "output_type": "stream",
     "text": [
      "100%|██████████| 30/30 [00:08<00:00,  3.55it/s]\n"
     ]
    },
    {
     "name": "stdout",
     "output_type": "stream",
     "text": [
      "\n",
      "validation min loss: 0.8732274174690247\n",
      "run time 0:02:05.111206\n"
     ]
    }
   ],
   "source": [
    "t0 = datetime.now()\n",
    "\n",
    "for epoch in range(10):\n",
    "    print('Epoch: ', epoch)\n",
    "\n",
    "    train_loss = train(train_loader, model, criterion, optimizer, epoch)\n",
    "    val_loss = validate(val_loader, model, criterion)\n",
    "    \n",
    "    # 记录下验证集精度\n",
    "    if val_loss < best_loss:\n",
    "        best_loss = val_loss\n",
    "        torch.save(model.state_dict(), './model.pt')\n",
    "        \n",
    "    train_loss_plot.append(train_loss)\n",
    "    val_loss_plot.append(val_loss)\n",
    "\n",
    "print(\"\\nvalidation min loss:\", best_loss)\n",
    "print(\"run time\", datetime.now()-t0)"
   ]
  },
  {
   "cell_type": "code",
   "execution_count": 7,
   "metadata": {},
   "outputs": [
    {
     "name": "stdout",
     "output_type": "stream",
     "text": [
      "train loss:\n",
      " [1.4165329416592916, 0.9196161806583405, 0.7459541837374369, 0.6565028329690298, 0.5982725481192271, 0.5550966858863831, 0.5204868078231811, 0.48749124904473623, 0.46375610133012135, 0.44068768521149954]\n",
      "val loss:\n",
      " [1.3315188407897949, 1.0432603359222412, 0.9768576323986053, 0.9322441816329956, 0.9674450159072876, 0.9432250261306763, 0.9164713442325592, 0.8815783321857452, 0.8996983110904694, 0.8732274174690247]\n"
     ]
    }
   ],
   "source": [
    "print(\"train loss:\\n\", train_loss_plot)\n",
    "print(\"val loss:\\n\", val_loss_plot)"
   ]
  },
  {
   "cell_type": "markdown",
   "metadata": {},
   "source": [
    "# plot loss"
   ]
  },
  {
   "cell_type": "code",
   "execution_count": 8,
   "metadata": {},
   "outputs": [
    {
     "data": {
      "image/png": "[encoded data removed]",
      "text/plain": [
       "<Figure size 432x288 with 1 Axes>"
      ]
     },
     "metadata": {
      "needs_background": "light"
     },
     "output_type": "display_data"
    },
    {
     "data": {
      "image/png": "[encoded data removed]",
      "text/plain": [
       "<Figure size 432x288 with 1 Axes>"
      ]
     },
     "metadata": {
      "needs_background": "light"
     },
     "output_type": "display_data"
    }
   ],
   "source": [
    "plt.plot(train_loss_plot)\n",
    "plt.xlabel(\"Epoch\")\n",
    "plt.ylabel(\"train_loss\")\n",
    "plt.show()\n",
    "\n",
    "plt.plot(val_loss_plot)\n",
    "plt.xlabel(\"Epoch\")\n",
    "plt.ylabel(\"val_loss\")\n",
    "plt.show()\n"
   ]
  },
  {
   "cell_type": "markdown",
   "metadata": {},
   "source": [
    "# test data"
   ]
  },
  {
   "cell_type": "code",
   "execution_count": 7,
   "metadata": {},
   "outputs": [
    {
     "ename": "RuntimeError",
     "evalue": "Error(s) in loading state_dict for SVHN_Model1:\n\tMissing key(s) in state_dict: \"cnn.0.bias\", \"cnn.3.weight\", \"cnn.3.bias\". \n\tUnexpected key(s) in state_dict: \"hd_fc1.weight\", \"hd_fc1.bias\", \"hd_fc2.weight\", \"hd_fc2.bias\", \"hd_fc3.weight\", \"hd_fc3.bias\", \"hd_fc4.weight\", \"hd_fc4.bias\", \"cnn.6.0.conv1.weight\", \"cnn.6.0.bn1.weight\", \"cnn.6.0.bn1.bias\", \"cnn.6.0.bn1.running_mean\", \"cnn.6.0.bn1.running_var\", \"cnn.6.0.bn1.num_batches_tracked\", \"cnn.6.0.conv2.weight\", \"cnn.6.0.bn2.weight\", \"cnn.6.0.bn2.bias\", \"cnn.6.0.bn2.running_mean\", \"cnn.6.0.bn2.running_var\", \"cnn.6.0.bn2.num_batches_tracked\", \"cnn.6.0.downsample.0.weight\", \"cnn.6.0.downsample.1.weight\", \"cnn.6.0.downsample.1.bias\", \"cnn.6.0.downsample.1.running_mean\", \"cnn.6.0.downsample.1.running_var\", \"cnn.6.0.downsample.1.num_batches_tracked\", \"cnn.6.1.conv1.weight\", \"cnn.6.1.bn1.weight\", \"cnn.6.1.bn1.bias\", \"cnn.6.1.bn1.running_mean\", \"cnn.6.1.bn1.running_var\", \"cnn.6.1.bn1.num_batches_tracked\", \"cnn.6.1.conv2.weight\", \"cnn.6.1.bn2.weight\", \"cnn.6.1.bn2.bias\", \"cnn.6.1.bn2.running_mean\", \"cnn.6.1.bn2.running_var\", \"cnn.6.1.bn2.num_batches_tracked\", \"cnn.6.2.conv1.weight\", \"cnn.6.2.bn1.weight\", \"cnn.6.2.bn1.bias\", \"cnn.6.2.bn1.running_mean\", \"cnn.6.2.bn1.running_var\", \"cnn.6.2.bn1.num_batches_tracked\", \"cnn.6.2.conv2.weight\", \"cnn.6.2.bn2.weight\", \"cnn.6.2.bn2.bias\", \"cnn.6.2.bn2.running_mean\", \"cnn.6.2.bn2.running_var\", \"cnn.6.2.bn2.num_batches_tracked\", \"cnn.6.3.conv1.weight\", \"cnn.6.3.bn1.weight\", \"cnn.6.3.bn1.bias\", \"cnn.6.3.bn1.running_mean\", \"cnn.6.3.bn1.running_var\", \"cnn.6.3.bn1.num_batches_tracked\", \"cnn.6.3.conv2.weight\", \"cnn.6.3.bn2.weight\", \"cnn.6.3.bn2.bias\", \"cnn.6.3.bn2.running_mean\", \"cnn.6.3.bn2.running_var\", \"cnn.6.3.bn2.num_batches_tracked\", \"cnn.6.4.conv1.weight\", \"cnn.6.4.bn1.weight\", \"cnn.6.4.bn1.bias\", \"cnn.6.4.bn1.running_mean\", \"cnn.6.4.bn1.running_var\", \"cnn.6.4.bn1.num_batches_tracked\", \"cnn.6.4.conv2.weight\", \"cnn.6.4.bn2.weight\", \"cnn.6.4.bn2.bias\", \"cnn.6.4.bn2.running_mean\", \"cnn.6.4.bn2.running_var\", \"cnn.6.4.bn2.num_batches_tracked\", \"cnn.6.5.conv1.weight\", \"cnn.6.5.bn1.weight\", \"cnn.6.5.bn1.bias\", \"cnn.6.5.bn1.running_mean\", \"cnn.6.5.bn1.running_var\", \"cnn.6.5.bn1.num_batches_tracked\", \"cnn.6.5.conv2.weight\", \"cnn.6.5.bn2.weight\", \"cnn.6.5.bn2.bias\", \"cnn.6.5.bn2.running_mean\", \"cnn.6.5.bn2.running_var\", \"cnn.6.5.bn2.num_batches_tracked\", \"cnn.7.0.conv1.weight\", \"cnn.7.0.bn1.weight\", \"cnn.7.0.bn1.bias\", \"cnn.7.0.bn1.running_mean\", \"cnn.7.0.bn1.running_var\", \"cnn.7.0.bn1.num_batches_tracked\", \"cnn.7.0.conv2.weight\", \"cnn.7.0.bn2.weight\", \"cnn.7.0.bn2.bias\", \"cnn.7.0.bn2.running_mean\", \"cnn.7.0.bn2.running_var\", \"cnn.7.0.bn2.num_batches_tracked\", \"cnn.7.0.downsample.0.weight\", \"cnn.7.0.downsample.1.weight\", \"cnn.7.0.downsample.1.bias\", \"cnn.7.0.downsample.1.running_mean\", \"cnn.7.0.downsample.1.running_var\", \"cnn.7.0.downsample.1.num_batches_tracked\", \"cnn.7.1.conv1.weight\", \"cnn.7.1.bn1.weight\", \"cnn.7.1.bn1.bias\", \"cnn.7.1.bn1.running_mean\", \"cnn.7.1.bn1.running_var\", \"cnn.7.1.bn1.num_batches_tracked\", \"cnn.7.1.conv2.weight\", \"cnn.7.1.bn2.weight\", \"cnn.7.1.bn2.bias\", \"cnn.7.1.bn2.running_mean\", \"cnn.7.1.bn2.running_var\", \"cnn.7.1.bn2.num_batches_tracked\", \"cnn.7.2.conv1.weight\", \"cnn.7.2.bn1.weight\", \"cnn.7.2.bn1.bias\", \"cnn.7.2.bn1.running_mean\", \"cnn.7.2.bn1.running_var\", \"cnn.7.2.bn1.num_batches_tracked\", \"cnn.7.2.conv2.weight\", \"cnn.7.2.bn2.weight\", \"cnn.7.2.bn2.bias\", \"cnn.7.2.bn2.running_mean\", \"cnn.7.2.bn2.running_var\", \"cnn.7.2.bn2.num_batches_tracked\", \"cnn.1.weight\", \"cnn.1.bias\", \"cnn.1.running_mean\", \"cnn.1.running_var\", \"cnn.1.num_batches_tracked\", \"cnn.4.0.conv1.weight\", \"cnn.4.0.bn1.weight\", \"cnn.4.0.bn1.bias\", \"cnn.4.0.bn1.running_mean\", \"cnn.4.0.bn1.running_var\", \"cnn.4.0.bn1.num_batches_tracked\", \"cnn.4.0.conv2.weight\", \"cnn.4.0.bn2.weight\", \"cnn.4.0.bn2.bias\", \"cnn.4.0.bn2.running_mean\", \"cnn.4.0.bn2.running_var\", \"cnn.4.0.bn2.num_batches_tracked\", \"cnn.4.1.conv1.weight\", \"cnn.4.1.bn1.weight\", \"cnn.4.1.bn1.bias\", \"cnn.4.1.bn1.running_mean\", \"cnn.4.1.bn1.running_var\", \"cnn.4.1.bn1.num_batches_tracked\", \"cnn.4.1.conv2.weight\", \"cnn.4.1.bn2.weight\", \"cnn.4.1.bn2.bias\", \"cnn.4.1.bn2.running_mean\", \"cnn.4.1.bn2.running_var\", \"cnn.4.1.bn2.num_batches_tracked\", \"cnn.4.2.conv1.weight\", \"cnn.4.2.bn1.weight\", \"cnn.4.2.bn1.bias\", \"cnn.4.2.bn1.running_mean\", \"cnn.4.2.bn1.running_var\", \"cnn.4.2.bn1.num_batches_tracked\", \"cnn.4.2.conv2.weight\", \"cnn.4.2.bn2.weight\", \"cnn.4.2.bn2.bias\", \"cnn.4.2.bn2.running_mean\", \"cnn.4.2.bn2.running_var\", \"cnn.4.2.bn2.num_batches_tracked\", \"cnn.5.0.conv1.weight\", \"cnn.5.0.bn1.weight\", \"cnn.5.0.bn1.bias\", \"cnn.5.0.bn1.running_mean\", \"cnn.5.0.bn1.running_var\", \"cnn.5.0.bn1.num_batches_tracked\", \"cnn.5.0.conv2.weight\", \"cnn.5.0.bn2.weight\", \"cnn.5.0.bn2.bias\", \"cnn.5.0.bn2.running_mean\", \"cnn.5.0.bn2.running_var\", \"cnn.5.0.bn2.num_batches_tracked\", \"cnn.5.0.downsample.0.weight\", \"cnn.5.0.downsample.1.weight\", \"cnn.5.0.downsample.1.bias\", \"cnn.5.0.downsample.1.running_mean\", \"cnn.5.0.downsample.1.running_var\", \"cnn.5.0.downsample.1.num_batches_tracked\", \"cnn.5.1.conv1.weight\", \"cnn.5.1.bn1.weight\", \"cnn.5.1.bn1.bias\", \"cnn.5.1.bn1.running_mean\", \"cnn.5.1.bn1.running_var\", \"cnn.5.1.bn1.num_batches_tracked\", \"cnn.5.1.conv2.weight\", \"cnn.5.1.bn2.weight\", \"cnn.5.1.bn2.bias\", \"cnn.5.1.bn2.running_mean\", \"cnn.5.1.bn2.running_var\", \"cnn.5.1.bn2.num_batches_tracked\", \"cnn.5.2.conv1.weight\", \"cnn.5.2.bn1.weight\", \"cnn.5.2.bn1.bias\", \"cnn.5.2.bn1.running_mean\", \"cnn.5.2.bn1.running_var\", \"cnn.5.2.bn1.num_batches_tracked\", \"cnn.5.2.conv2.weight\", \"cnn.5.2.bn2.weight\", \"cnn.5.2.bn2.bias\", \"cnn.5.2.bn2.running_mean\", \"cnn.5.2.bn2.running_var\", \"cnn.5.2.bn2.num_batches_tracked\", \"cnn.5.3.conv1.weight\", \"cnn.5.3.bn1.weight\", \"cnn.5.3.bn1.bias\", \"cnn.5.3.bn1.running_mean\", \"cnn.5.3.bn1.running_var\", \"cnn.5.3.bn1.num_batches_tracked\", \"cnn.5.3.conv2.weight\", \"cnn.5.3.bn2.weight\", \"cnn.5.3.bn2.bias\", \"cnn.5.3.bn2.running_mean\", \"cnn.5.3.bn2.running_var\", \"cnn.5.3.bn2.num_batches_tracked\". \n\tsize mismatch for cnn.0.weight: copying a param with shape torch.Size([64, 3, 7, 7]) from checkpoint, the shape in current model is torch.Size([16, 3, 3, 3]).\n\tsize mismatch for fc1.weight: copying a param with shape torch.Size([11, 128]) from checkpoint, the shape in current model is torch.Size([11, 672]).\n\tsize mismatch for fc2.weight: copying a param with shape torch.Size([11, 128]) from checkpoint, the shape in current model is torch.Size([11, 672]).\n\tsize mismatch for fc3.weight: copying a param with shape torch.Size([11, 128]) from checkpoint, the shape in current model is torch.Size([11, 672]).\n\tsize mismatch for fc4.weight: copying a param with shape torch.Size([11, 128]) from checkpoint, the shape in current model is torch.Size([11, 672]).",
     "output_type": "error",
     "traceback": [
      "\u001b[0;31m---------------------------------------------------------------------------\u001b[0m",
      "\u001b[0;31mRuntimeError\u001b[0m                              Traceback (most recent call last)",
      "\u001b[0;32m<ipython-input-7-3cc58ca3cabd>\u001b[0m in \u001b[0;36m<module>\u001b[0;34m\u001b[0m\n\u001b[0;32m----> 1\u001b[0;31m \u001b[0mmodel\u001b[0m\u001b[0;34m.\u001b[0m\u001b[0mload_state_dict\u001b[0m\u001b[0;34m(\u001b[0m\u001b[0mtorch\u001b[0m\u001b[0;34m.\u001b[0m\u001b[0mload\u001b[0m\u001b[0;34m(\u001b[0m\u001b[0;34m'model.pt'\u001b[0m\u001b[0;34m)\u001b[0m\u001b[0;34m)\u001b[0m\u001b[0;34m\u001b[0m\u001b[0;34m\u001b[0m\u001b[0m\n\u001b[0m\u001b[1;32m      2\u001b[0m \u001b[0mtest_pred_tta\u001b[0m \u001b[0;34m=\u001b[0m \u001b[0mpredict\u001b[0m\u001b[0;34m(\u001b[0m\u001b[0mtest_loader\u001b[0m\u001b[0;34m,\u001b[0m \u001b[0mmodel\u001b[0m\u001b[0;34m,\u001b[0m \u001b[0mtta\u001b[0m\u001b[0;34m=\u001b[0m\u001b[0;36m10\u001b[0m\u001b[0;34m)\u001b[0m\u001b[0;34m\u001b[0m\u001b[0;34m\u001b[0m\u001b[0m\n\u001b[1;32m      3\u001b[0m \u001b[0;34m\u001b[0m\u001b[0m\n\u001b[1;32m      4\u001b[0m \u001b[0mtest_pred_tta\u001b[0m \u001b[0;34m=\u001b[0m \u001b[0mtorch\u001b[0m\u001b[0;34m.\u001b[0m\u001b[0mfrom_numpy\u001b[0m\u001b[0;34m(\u001b[0m\u001b[0mtest_pred_tta\u001b[0m\u001b[0;34m)\u001b[0m\u001b[0;34m.\u001b[0m\u001b[0mview\u001b[0m\u001b[0;34m(\u001b[0m\u001b[0;36m40000\u001b[0m\u001b[0;34m,\u001b[0m \u001b[0mfixed_length_str\u001b[0m\u001b[0;34m,\u001b[0m \u001b[0;34m-\u001b[0m\u001b[0;36m1\u001b[0m\u001b[0;34m)\u001b[0m\u001b[0;34m\u001b[0m\u001b[0;34m\u001b[0m\u001b[0m\n\u001b[1;32m      5\u001b[0m \u001b[0mpredict_softmax\u001b[0m \u001b[0;34m=\u001b[0m \u001b[0mF\u001b[0m\u001b[0;34m.\u001b[0m\u001b[0msoftmax\u001b[0m\u001b[0;34m(\u001b[0m\u001b[0mtest_pred_tta\u001b[0m\u001b[0;34m,\u001b[0m \u001b[0mdim\u001b[0m\u001b[0;34m=\u001b[0m\u001b[0;36m2\u001b[0m\u001b[0;34m)\u001b[0m\u001b[0;34m\u001b[0m\u001b[0;34m\u001b[0m\u001b[0m\n",
      "\u001b[0;32m/usr/local/anaconda3/envs/py36/lib/python3.6/site-packages/torch/nn/modules/module.py\u001b[0m in \u001b[0;36mload_state_dict\u001b[0;34m(self, state_dict, strict)\u001b[0m\n\u001b[1;32m   1050\u001b[0m         \u001b[0;32mif\u001b[0m \u001b[0mlen\u001b[0m\u001b[0;34m(\u001b[0m\u001b[0merror_msgs\u001b[0m\u001b[0;34m)\u001b[0m \u001b[0;34m>\u001b[0m \u001b[0;36m0\u001b[0m\u001b[0;34m:\u001b[0m\u001b[0;34m\u001b[0m\u001b[0;34m\u001b[0m\u001b[0m\n\u001b[1;32m   1051\u001b[0m             raise RuntimeError('Error(s) in loading state_dict for {}:\\n\\t{}'.format(\n\u001b[0;32m-> 1052\u001b[0;31m                                self.__class__.__name__, \"\\n\\t\".join(error_msgs)))\n\u001b[0m\u001b[1;32m   1053\u001b[0m         \u001b[0;32mreturn\u001b[0m \u001b[0m_IncompatibleKeys\u001b[0m\u001b[0;34m(\u001b[0m\u001b[0mmissing_keys\u001b[0m\u001b[0;34m,\u001b[0m \u001b[0munexpected_keys\u001b[0m\u001b[0;34m)\u001b[0m\u001b[0;34m\u001b[0m\u001b[0;34m\u001b[0m\u001b[0m\n\u001b[1;32m   1054\u001b[0m \u001b[0;34m\u001b[0m\u001b[0m\n",
      "\u001b[0;31mRuntimeError\u001b[0m: Error(s) in loading state_dict for SVHN_Model1:\n\tMissing key(s) in state_dict: \"cnn.0.bias\", \"cnn.3.weight\", \"cnn.3.bias\". \n\tUnexpected key(s) in state_dict: \"hd_fc1.weight\", \"hd_fc1.bias\", \"hd_fc2.weight\", \"hd_fc2.bias\", \"hd_fc3.weight\", \"hd_fc3.bias\", \"hd_fc4.weight\", \"hd_fc4.bias\", \"cnn.6.0.conv1.weight\", \"cnn.6.0.bn1.weight\", \"cnn.6.0.bn1.bias\", \"cnn.6.0.bn1.running_mean\", \"cnn.6.0.bn1.running_var\", \"cnn.6.0.bn1.num_batches_tracked\", \"cnn.6.0.conv2.weight\", \"cnn.6.0.bn2.weight\", \"cnn.6.0.bn2.bias\", \"cnn.6.0.bn2.running_mean\", \"cnn.6.0.bn2.running_var\", \"cnn.6.0.bn2.num_batches_tracked\", \"cnn.6.0.downsample.0.weight\", \"cnn.6.0.downsample.1.weight\", \"cnn.6.0.downsample.1.bias\", \"cnn.6.0.downsample.1.running_mean\", \"cnn.6.0.downsample.1.running_var\", \"cnn.6.0.downsample.1.num_batches_tracked\", \"cnn.6.1.conv1.weight\", \"cnn.6.1.bn1.weight\", \"cnn.6.1.bn1.bias\", \"cnn.6.1.bn1.running_mean\", \"cnn.6.1.bn1.running_var\", \"cnn.6.1.bn1.num_batches_tracked\", \"cnn.6.1.conv2.weight\", \"cnn.6.1.bn2.weight\", \"cnn.6.1.bn2.bias\", \"cnn.6.1.bn2.running_mean\", \"cnn.6.1.bn2.running_var\", \"cnn.6.1.bn2.num_batches_tracked\", \"cnn.6.2.conv1.weight\", \"cnn.6.2.bn1.weight\", \"cnn.6.2.bn1.bias\", \"cnn.6.2.bn1.running_mean\", \"cnn.6.2.bn1.running_var\", \"cnn.6.2.bn1.num_batches_tracked\", \"cnn.6.2.conv2.weight\", \"cnn.6.2.bn2.weight\", \"cnn.6.2.bn2.bias\", \"cnn.6.2.bn2.running_mean\", \"cnn.6.2.bn2.running_var\", \"cnn.6.2.bn2.num_batches_tracked\", \"cnn.6.3.conv1.weight\", \"cnn.6.3.bn1.weight\", \"cnn.6.3.bn1.bias\", \"cnn.6.3.bn1.running_mean\", \"cnn.6.3.bn1.running_var\", \"cnn.6.3.bn1.num_batches_tracked\", \"cnn.6.3.conv2.weight\", \"cnn.6.3.bn2.weight\", \"cnn.6.3.bn2.bias\", \"cnn.6.3.bn2.running_mean\", \"cnn.6.3.bn2.running_var\", \"cnn.6.3.bn2.num_batches_tracked\", \"cnn.6.4.conv1.weight\", \"cnn.6.4.bn1.weight\", \"cnn.6.4.bn1.bias\", \"cnn.6.4.bn1.running_mean\", \"cnn.6.4.bn1.running_var\", \"cnn.6.4.bn1.num_batches_tracked\", \"cnn.6.4.conv2.weight\", \"cnn.6.4.bn2.weight\", \"cnn.6.4.bn2.bias\", \"cnn.6.4.bn2.running_mean\", \"cnn.6.4.bn2.running_var\", \"cnn.6.4.bn2.num_batches_tracked\", \"cnn.6.5.conv1.weight\", \"cnn.6.5.bn1.weight\", \"cnn.6.5.bn1.bias\", \"cnn.6.5.bn1.running_mean\", \"cnn.6.5.bn1.running_var\", \"cnn.6.5.bn1.num_batches_tracked\", \"cnn.6.5.conv2.weight\", \"cnn.6.5.bn2.weight\", \"cnn.6.5.bn2.bias\", \"cnn.6.5.bn2.running_mean\", \"cnn.6.5.bn2.running_var\", \"cnn.6.5.bn2.num_batches_tracked\", \"cnn.7.0.conv1.weight\", \"cnn.7.0.bn1.weight\", \"cnn.7.0.bn1.bias\", \"cnn.7.0.bn1.running_mean\", \"cnn.7.0.bn1.running_var\", \"cnn.7.0.bn1.num_batches_tracked\", \"cnn.7.0.conv2.weight\", \"cnn.7.0.bn2.weight\", \"cnn.7.0.bn2.bias\", \"cnn.7.0.bn2.running_mean\", \"cnn.7.0.bn2.running_var\", \"cnn.7.0.bn2.num_batches_tracked\", \"cnn.7.0.downsample.0.weight\", \"cnn.7.0.downsample.1.weight\", \"cnn.7.0.downsample.1.bias\", \"cnn.7.0.downsample.1.running_mean\", \"cnn.7.0.downsample.1.running_var\", \"cnn.7.0.downsample.1.num_batches_tracked\", \"cnn.7.1.conv1.weight\", \"cnn.7.1.bn1.weight\", \"cnn.7.1.bn1.bias\", \"cnn.7.1.bn1.running_mean\", \"cnn.7.1.bn1.running_var\", \"cnn.7.1.bn1.num_batches_tracked\", \"cnn.7.1.conv2.weight\", \"cnn.7.1.bn2.weight\", \"cnn.7.1.bn2.bias\", \"cnn.7.1.bn2.running_mean\", \"cnn.7.1.bn2.running_var\", \"cnn.7.1.bn2.num_batches_tracked\", \"cnn.7.2.conv1.weight\", \"cnn.7.2.bn1.weight\", \"cnn.7.2.bn1.bias\", \"cnn.7.2.bn1.running_mean\", \"cnn.7.2.bn1.running_var\", \"cnn.7.2.bn1.num_batches_tracked\", \"cnn.7.2.conv2.weight\", \"cnn.7.2.bn2.weight\", \"cnn.7.2.bn2.bias\", \"cnn.7.2.bn2.running_mean\", \"cnn.7.2.bn2.running_var\", \"cnn.7.2.bn2.num_batches_tracked\", \"cnn.1.weight\", \"cnn.1.bias\", \"cnn.1.running_mean\", \"cnn.1.running_var\", \"cnn.1.num_batches_tracked\", \"cnn.4.0.conv1.weight\", \"cnn.4.0.bn1.weight\", \"cnn.4.0.bn1.bias\", \"cnn.4.0.bn1.running_mean\", \"cnn.4.0.bn1.running_var\", \"cnn.4.0.bn1.num_batches_tracked\", \"cnn.4.0.conv2.weight\", \"cnn.4.0.bn2.weight\", \"cnn.4.0.bn2.bias\", \"cnn.4.0.bn2.running_mean\", \"cnn.4.0.bn2.running_var\", \"cnn.4.0.bn2.num_batches_tracked\", \"cnn.4.1.conv1.weight\", \"cnn.4.1.bn1.weight\", \"cnn.4.1.bn1.bias\", \"cnn.4.1.bn1.running_mean\", \"cnn.4.1.bn1.running_var\", \"cnn.4.1.bn1.num_batches_tracked\", \"cnn.4.1.conv2.weight\", \"cnn.4.1.bn2.weight\", \"cnn.4.1.bn2.bias\", \"cnn.4.1.bn2.running_mean\", \"cnn.4.1.bn2.running_var\", \"cnn.4.1.bn2.num_batches_tracked\", \"cnn.4.2.conv1.weight\", \"cnn.4.2.bn1.weight\", \"cnn.4.2.bn1.bias\", \"cnn.4.2.bn1.running_mean\", \"cnn.4.2.bn1.running_var\", \"cnn.4.2.bn1.num_batches_tracked\", \"cnn.4.2.conv2.weight\", \"cnn.4.2.bn2.weight\", \"cnn.4.2.bn2.bias\", \"cnn.4.2.bn2.running_mean\", \"cnn.4.2.bn2.running_var\", \"cnn.4.2.bn2.num_batches_tracked\", \"cnn.5.0.conv1.weight\", \"cnn.5.0.bn1.weight\", \"cnn.5.0.bn1.bias\", \"cnn.5.0.bn1.running_mean\", \"cnn.5.0.bn1.running_var\", \"cnn.5.0.bn1.num_batches_tracked\", \"cnn.5.0.conv2.weight\", \"cnn.5.0.bn2.weight\", \"cnn.5.0.bn2.bias\", \"cnn.5.0.bn2.running_mean\", \"cnn.5.0.bn2.running_var\", \"cnn.5.0.bn2.num_batches_tracked\", \"cnn.5.0.downsample.0.weight\", \"cnn.5.0.downsample.1.weight\", \"cnn.5.0.downsample.1.bias\", \"cnn.5.0.downsample.1.running_mean\", \"cnn.5.0.downsample.1.running_var\", \"cnn.5.0.downsample.1.num_batches_tracked\", \"cnn.5.1.conv1.weight\", \"cnn.5.1.bn1.weight\", \"cnn.5.1.bn1.bias\", \"cnn.5.1.bn1.running_mean\", \"cnn.5.1.bn1.running_var\", \"cnn.5.1.bn1.num_batches_tracked\", \"cnn.5.1.conv2.weight\", \"cnn.5.1.bn2.weight\", \"cnn.5.1.bn2.bias\", \"cnn.5.1.bn2.running_mean\", \"cnn.5.1.bn2.running_var\", \"cnn.5.1.bn2.num_batches_tracked\", \"cnn.5.2.conv1.weight\", \"cnn.5.2.bn1.weight\", \"cnn.5.2.bn1.bias\", \"cnn.5.2.bn1.running_mean\", \"cnn.5.2.bn1.running_var\", \"cnn.5.2.bn1.num_batches_tracked\", \"cnn.5.2.conv2.weight\", \"cnn.5.2.bn2.weight\", \"cnn.5.2.bn2.bias\", \"cnn.5.2.bn2.running_mean\", \"cnn.5.2.bn2.running_var\", \"cnn.5.2.bn2.num_batches_tracked\", \"cnn.5.3.conv1.weight\", \"cnn.5.3.bn1.weight\", \"cnn.5.3.bn1.bias\", \"cnn.5.3.bn1.running_mean\", \"cnn.5.3.bn1.running_var\", \"cnn.5.3.bn1.num_batches_tracked\", \"cnn.5.3.conv2.weight\", \"cnn.5.3.bn2.weight\", \"cnn.5.3.bn2.bias\", \"cnn.5.3.bn2.running_mean\", \"cnn.5.3.bn2.running_var\", \"cnn.5.3.bn2.num_batches_tracked\". \n\tsize mismatch for cnn.0.weight: copying a param with shape torch.Size([64, 3, 7, 7]) from checkpoint, the shape in current model is torch.Size([16, 3, 3, 3]).\n\tsize mismatch for fc1.weight: copying a param with shape torch.Size([11, 128]) from checkpoint, the shape in current model is torch.Size([11, 672]).\n\tsize mismatch for fc2.weight: copying a param with shape torch.Size([11, 128]) from checkpoint, the shape in current model is torch.Size([11, 672]).\n\tsize mismatch for fc3.weight: copying a param with shape torch.Size([11, 128]) from checkpoint, the shape in current model is torch.Size([11, 672]).\n\tsize mismatch for fc4.weight: copying a param with shape torch.Size([11, 128]) from checkpoint, the shape in current model is torch.Size([11, 672])."
     ]
    }
   ],
   "source": [
    "model.load_state_dict(torch.load('model.pt'))\n",
    "test_pred_tta = predict(test_loader, model, tta=10)\n",
    "\n",
    "test_pred_tta = torch.from_numpy(test_pred_tta).view(40000, fixed_length_str, -1)\n",
    "predict_softmax = F.softmax(test_pred_tta, dim=2)\n",
    "predict_label = predict_softmax.argmax(dim=2)"
   ]
  },
  {
   "cell_type": "code",
   "execution_count": null,
   "metadata": {},
   "outputs": [],
   "source": [
    "def concat(*kw):\n",
    "    result = \"\"\n",
    "    for i in kw:\n",
    "        result += str(i)\n",
    "    return int(result)\n",
    "\n",
    "submit = list()\n",
    "for label in predict_label.numpy(): \n",
    "     submit.append(concat(*label[label<10]))\n",
    "\n",
    "\n",
    "df_submit = pd.read_csv('../input/mchar_sample_submit_A.csv')\n",
    "df_submit['file_code'] = submit\n",
    "df_submit.to_csv('submit.csv', index=None)"
   ]
  }
 ],
 "metadata": {
  "interpreter": {
   "hash": "f3b9b828f383373597d353e22ddc5577ec47150a1819a90192bb3706a239b968"
  },
  "kernelspec": {
   "display_name": "Python 3",
   "language": "python",
   "name": "python3"
  },
  "language_info": {
   "codemirror_mode": {
    "name": "ipython",
    "version": 3
   },
   "file_extension": ".py",
   "mimetype": "text/x-python",
   "name": "python",
   "nbconvert_exporter": "python",
   "pygments_lexer": "ipython3",
   "version": "3.6.12"
  }
 },
 "nbformat": 4,
 "nbformat_minor": 2
}
