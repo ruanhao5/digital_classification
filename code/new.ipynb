{
 "cells": [
  {
   "cell_type": "code",
   "execution_count": 35,
   "metadata": {},
   "outputs": [
    {
     "name": "stdout",
     "output_type": "stream",
     "text": [
      "1.7.0+cu101\n",
      "True\n"
     ]
    }
   ],
   "source": [
    "import os, sys, glob, shutil, json\n",
    "import cv2\n",
    "\n",
    "from PIL import Image\n",
    "from PIL import ImageChops\n",
    "from PIL import ImageFilter\n",
    "import numpy as np\n",
    "\n",
    "from tqdm import tqdm\n",
    "import matplotlib.pyplot as plt\n",
    "\n",
    "import torch\n",
    "import torch.nn as nn\n",
    "import torchvision.models as models\n",
    "from torch.utils.data.dataset import Dataset\n",
    "from tensorboardX import SummaryWriter   # tensorboard\n",
    "import torchvision.transforms as transforms\n",
    "\n",
    "\n",
    "print(torch.__version__)\n",
    "print(torch.cuda.is_available())"
   ]
  },
  {
   "cell_type": "code",
   "execution_count": 36,
   "metadata": {},
   "outputs": [],
   "source": [
    "class SVHNDataset(Dataset):\n",
    "    def __init__(self, img_path, img_label, transform=None, train=True, test=False):\n",
    "        self.img_path = img_path\n",
    "        self.img_label = img_label\n",
    "        self.train = train\n",
    "        self.test = test\n",
    "        if transform is not None:\n",
    "            self.transform = transform\n",
    "        else:\n",
    "            self.transform = None\n",
    "\n",
    "    def __getitem__(self, index):\n",
    "        img = Image.open(self.img_path[index]).convert('RGB')\n",
    "        \n",
    "        if self.train and not self.test:\n",
    "            img = img.resize((128, 64))\n",
    "            img = ImageChops.offset(img, np.random.randint(-35, 35), np.random.randint(-10, 10))  # 平移\n",
    "            if np.random.randint(2):\n",
    "                # img = np.array(img)\n",
    "                # img = util.random_noise(img, mode='gaussian')  # 添加噪声\n",
    "                # img = np.uint8(img*255);\n",
    "                # img = Image.fromarray(img)\n",
    "                img = img.filter(ImageFilter.BLUR)  # 图像模糊\n",
    "\n",
    "        if self.transform is not None:\n",
    "            img = self.transform(img)\n",
    "        \n",
    "        # 原始SVHN中类别10为填充的数字X, 最多字符为6\n",
    "        lbl = np.array(self.img_label[index], dtype=np.int)\n",
    "        lbl = list(lbl)  + (4 - len(lbl)) * [10]\n",
    "        \n",
    "        return img, torch.from_numpy(np.array(lbl[:4]))\n",
    "\n",
    "    def __len__(self):\n",
    "        return len(self.img_path)\n",
    "\n",
    "\n",
    "train_path = glob.glob('../input/mchar_train/*.png')\n",
    "train_path.sort()\n",
    "train_json = json.load(open('../input/mchar_train.json'))\n",
    "train_label = [train_json[x]['label'] for x in train_json]\n",
    "\n",
    "val_path = glob.glob('../input/mchar_val/*.png')\n",
    "val_path.sort()\n",
    "val_json = json.load(open('../input/mchar_val.json'))\n",
    "val_label = [val_json[x]['label'] for x in val_json]\n",
    "\n",
    "# BATCH_SIZE = 10\n",
    "BATCH_SIZE = 1000\n",
    "\n",
    "train_loader = torch.utils.data.DataLoader(\n",
    "        SVHNDataset(train_path, train_label,\n",
    "                   transforms.Compose([\n",
    "                       transforms.Resize((64, 128)),\n",
    "                       transforms.RandomCrop((60, 120)),\n",
    "                       transforms.ColorJitter(0.3, 0.3, 0.2),\n",
    "                       transforms.RandomRotation(10),\n",
    "                       transforms.ToTensor(),\n",
    "                       transforms.Normalize([0.485, 0.456, 0.406], [0.229, 0.224, 0.225])\n",
    "            ]),train=True, test=False), \n",
    "    batch_size=BATCH_SIZE, # 每批样本个数\n",
    "    shuffle=True, # 是否打乱顺序\n",
    "    num_workers=10, # 读取的线程个数\n",
    ")\n",
    "\n",
    "    \n",
    "val_loader = torch.utils.data.DataLoader(\n",
    "    SVHNDataset(val_path, val_label,\n",
    "                    transforms.Compose([\n",
    "#                        transforms.Resize((64, 128)),\n",
    "                        transforms.Resize((60, 120)),\n",
    "                    #    transforms.ColorJitter(0.3, 0.3, 0.2),\n",
    "                    #    transforms.RandomRotation(5),\n",
    "                       transforms.ToTensor(),\n",
    "                       transforms.Normalize([0.485, 0.456, 0.406], [0.229, 0.224, 0.225])\n",
    "            ]), train=False, test=True), \n",
    "    batch_size=BATCH_SIZE, \n",
    "    shuffle=False, \n",
    "    num_workers=10, \n",
    ")"
   ]
  },
  {
   "cell_type": "code",
   "execution_count": 41,
   "metadata": {},
   "outputs": [],
   "source": [
    "# 定义模型\n",
    "class SVHN_Model1(nn.Module):\n",
    "    def __init__(self):\n",
    "        super(SVHN_Model1, self).__init__()\n",
    "        # CNN提取特征模块\n",
    "#         self.cnn = nn.Sequential(\n",
    "#             nn.Conv2d(3, 16, kernel_size=(3, 3), stride=(2, 2)),\n",
    "#             nn.ReLU(),  \n",
    "#             nn.MaxPool2d(2),\n",
    "#             nn.Conv2d(16, 32, kernel_size=(3, 3), stride=(2, 2)),\n",
    "#             nn.ReLU(), \n",
    "#             nn.MaxPool2d(2),\n",
    "#         )\n",
    "#         # \n",
    "#         self.fc1 = nn.Linear(32*3*7, 11)\n",
    "#         self.fc2 = nn.Linear(32*3*7, 11)\n",
    "#         self.fc3 = nn.Linear(32*3*7, 11)\n",
    "#         self.fc4 = nn.Linear(32*3*7, 11)\n",
    "\n",
    "         # CNN，提取特征\n",
    "        model_conv = models.resnet34(pretrained=True)\n",
    "        model_conv.avgpool = nn.AdaptiveAvgPool2d(1)  # 更改了resnet中的avgpool层\n",
    "        model_conv = nn.Sequential(*list(model_conv.children())[:-1])  # children获得网络的子层，list封装一下，[:-1]遍历全部元素\n",
    "        self.cnn = model_conv\n",
    "\n",
    "        # 全连接网络，分类\n",
    "        self.fc1 = nn.Linear(512, 11)\n",
    "        self.fc2 = nn.Linear(512, 11)\n",
    "        self.fc3 = nn.Linear(512, 11)\n",
    "        self.fc4 = nn.Linear(512, 11)\n",
    "    \n",
    "    def forward(self, img):        \n",
    "        feat = self.cnn(img)\n",
    "        feat = feat.view(feat.shape[0], -1)\n",
    "        c1 = self.fc1(feat)\n",
    "        c2 = self.fc2(feat)\n",
    "        c3 = self.fc3(feat)\n",
    "        c4 = self.fc4(feat)\n",
    "        return c1, c2, c3, c4"
   ]
  },
  {
   "cell_type": "code",
   "execution_count": 38,
   "metadata": {},
   "outputs": [],
   "source": [
    "def train(train_loader, model, criterion, optimizer, epoch):\n",
    "    # 切换模型为训练模式\n",
    "    model.train()\n",
    "    train_loss = []\n",
    "\n",
    "    for (data, label) in tqdm(train_loader):\n",
    "        data = data.cuda()\n",
    "        label = label.cuda()\n",
    "        c0, c1, c2, c3 = model(data)\n",
    "        loss = criterion(c0, label[:, 0]) + \\\n",
    "                criterion(c1, label[:, 1]) + \\\n",
    "                criterion(c2, label[:, 2]) + \\\n",
    "                criterion(c3, label[:, 3])\n",
    "        loss /= (4*BATCH_SIZE)\n",
    "        optimizer.zero_grad()\n",
    "        loss.backward()\n",
    "        optimizer.step()\n",
    "\n",
    "        train_loss.append(loss.item())\n",
    "    return np.mean(train_loss)\n",
    "\n",
    "\n",
    "def validate(val_loader, model, criterion):\n",
    "    # 切换模型为预测模型\n",
    "    model.eval()\n",
    "    val_loss = []\n",
    "    val_predict = []\n",
    "\n",
    "    # 不记录模型梯度信息\n",
    "    with torch.no_grad():\n",
    "        for (data, label) in tqdm(val_loader):\n",
    "            data = data.cuda()\n",
    "            label = label.cuda()\n",
    "            c0, c1, c2, c3 = model(data)\n",
    "            # print(c0.shape)\n",
    "            loss = criterion(c0, label[:, 0]) + \\\n",
    "                    criterion(c1, label[:, 1]) + \\\n",
    "                    criterion(c2, label[:, 2]) + \\\n",
    "                    criterion(c3, label[:, 3]) \n",
    "            loss /= (4*BATCH_SIZE)\n",
    "            val_loss.append(loss.item())\n",
    "            \n",
    "            # calculate validation accuracy\n",
    "            output = np.concatenate([\n",
    "                c0.data.cpu().numpy(),\n",
    "                c1.data.cpu().numpy(),\n",
    "                c2.data.cpu().numpy(),\n",
    "                c3.data.cpu().numpy()], axis=1)# output: shape(batch, 44)\n",
    "            val_predict.append(output)        \n",
    "        val_predict = np.vstack(val_predict)\n",
    "        \n",
    "        val_predict = np.vstack([\n",
    "            val_predict[:, :11].argmax(1),\n",
    "            val_predict[:, 11:22].argmax(1),\n",
    "            val_predict[:, 22:33].argmax(1),\n",
    "            val_predict[:, 33:44].argmax(1)]).T\n",
    "        val_predict_label = list()\n",
    "        for x in val_predict:\n",
    "            val_predict_label.append(''.join(map(str, x[x!=10])))\n",
    "        val_label = [''.join(map(str, x)) for x in val_loader.dataset.img_label]\n",
    "        val_acc = np.mean(np.array(val_predict_label) == np.array(val_label))\n",
    "    return np.mean(val_loss), val_acc"
   ]
  },
  {
   "cell_type": "code",
   "execution_count": 42,
   "metadata": {},
   "outputs": [
    {
     "name": "stderr",
     "output_type": "stream",
     "text": [
      "\r",
      "  0%|          | 0/30 [00:00<?, ?it/s]"
     ]
    },
    {
     "name": "stdout",
     "output_type": "stream",
     "text": [
      "\n",
      "Epoch:  0\n"
     ]
    },
    {
     "name": "stderr",
     "output_type": "stream",
     "text": [
      "100%|██████████| 30/30 [00:10<00:00,  2.88it/s]\n",
      "100%|██████████| 10/10 [00:02<00:00,  3.40it/s]\n",
      "  0%|          | 0/30 [00:00<?, ?it/s]"
     ]
    },
    {
     "name": "stdout",
     "output_type": "stream",
     "text": [
      "\n",
      "Epoch:  1\n"
     ]
    },
    {
     "name": "stderr",
     "output_type": "stream",
     "text": [
      "100%|██████████| 30/30 [00:10<00:00,  2.91it/s]\n",
      "100%|██████████| 10/10 [00:02<00:00,  3.43it/s]\n",
      "  0%|          | 0/30 [00:00<?, ?it/s]"
     ]
    },
    {
     "name": "stdout",
     "output_type": "stream",
     "text": [
      "\n",
      "Epoch:  2\n"
     ]
    },
    {
     "name": "stderr",
     "output_type": "stream",
     "text": [
      "100%|██████████| 30/30 [00:10<00:00,  2.88it/s]\n",
      "100%|██████████| 10/10 [00:02<00:00,  3.39it/s]\n",
      "  0%|          | 0/30 [00:00<?, ?it/s]"
     ]
    },
    {
     "name": "stdout",
     "output_type": "stream",
     "text": [
      "\n",
      "Epoch:  3\n"
     ]
    },
    {
     "name": "stderr",
     "output_type": "stream",
     "text": [
      "100%|██████████| 30/30 [00:10<00:00,  2.87it/s]\n",
      "100%|██████████| 10/10 [00:02<00:00,  3.44it/s]\n",
      "  0%|          | 0/30 [00:00<?, ?it/s]"
     ]
    },
    {
     "name": "stdout",
     "output_type": "stream",
     "text": [
      "\n",
      "Epoch:  4\n"
     ]
    },
    {
     "name": "stderr",
     "output_type": "stream",
     "text": [
      "100%|██████████| 30/30 [00:10<00:00,  2.93it/s]\n",
      "100%|██████████| 10/10 [00:02<00:00,  3.39it/s]\n",
      "  0%|          | 0/30 [00:00<?, ?it/s]"
     ]
    },
    {
     "name": "stdout",
     "output_type": "stream",
     "text": [
      "\n",
      "Epoch:  5\n"
     ]
    },
    {
     "name": "stderr",
     "output_type": "stream",
     "text": [
      "100%|██████████| 30/30 [00:10<00:00,  2.84it/s]\n",
      "100%|██████████| 10/10 [00:02<00:00,  3.40it/s]\n",
      "  0%|          | 0/30 [00:00<?, ?it/s]"
     ]
    },
    {
     "name": "stdout",
     "output_type": "stream",
     "text": [
      "\n",
      "Epoch:  6\n"
     ]
    },
    {
     "name": "stderr",
     "output_type": "stream",
     "text": [
      "100%|██████████| 30/30 [00:10<00:00,  2.90it/s]\n",
      "100%|██████████| 10/10 [00:02<00:00,  3.38it/s]\n",
      "  0%|          | 0/30 [00:00<?, ?it/s]"
     ]
    },
    {
     "name": "stdout",
     "output_type": "stream",
     "text": [
      "\n",
      "Epoch:  7\n"
     ]
    },
    {
     "name": "stderr",
     "output_type": "stream",
     "text": [
      "100%|██████████| 30/30 [00:10<00:00,  2.91it/s]\n",
      "100%|██████████| 10/10 [00:02<00:00,  3.38it/s]\n",
      "  0%|          | 0/30 [00:00<?, ?it/s]"
     ]
    },
    {
     "name": "stdout",
     "output_type": "stream",
     "text": [
      "\n",
      "Epoch:  8\n"
     ]
    },
    {
     "name": "stderr",
     "output_type": "stream",
     "text": [
      "100%|██████████| 30/30 [00:10<00:00,  2.90it/s]\n",
      "100%|██████████| 10/10 [00:02<00:00,  3.37it/s]\n",
      "  0%|          | 0/30 [00:00<?, ?it/s]"
     ]
    },
    {
     "name": "stdout",
     "output_type": "stream",
     "text": [
      "\n",
      "Epoch:  9\n"
     ]
    },
    {
     "name": "stderr",
     "output_type": "stream",
     "text": [
      "100%|██████████| 30/30 [00:10<00:00,  2.88it/s]\n",
      "100%|██████████| 10/10 [00:02<00:00,  3.45it/s]\n",
      "  0%|          | 0/30 [00:00<?, ?it/s]"
     ]
    },
    {
     "name": "stdout",
     "output_type": "stream",
     "text": [
      "\n",
      "Epoch:  10\n"
     ]
    },
    {
     "name": "stderr",
     "output_type": "stream",
     "text": [
      "100%|██████████| 30/30 [00:10<00:00,  2.88it/s]\n",
      "100%|██████████| 10/10 [00:03<00:00,  3.28it/s]\n",
      "  0%|          | 0/30 [00:00<?, ?it/s]"
     ]
    },
    {
     "name": "stdout",
     "output_type": "stream",
     "text": [
      "\n",
      "Epoch:  11\n"
     ]
    },
    {
     "name": "stderr",
     "output_type": "stream",
     "text": [
      "100%|██████████| 30/30 [00:10<00:00,  2.88it/s]\n",
      "100%|██████████| 10/10 [00:02<00:00,  3.41it/s]\n",
      "  0%|          | 0/30 [00:00<?, ?it/s]"
     ]
    },
    {
     "name": "stdout",
     "output_type": "stream",
     "text": [
      "\n",
      "Epoch:  12\n"
     ]
    },
    {
     "name": "stderr",
     "output_type": "stream",
     "text": [
      "100%|██████████| 30/30 [00:10<00:00,  2.89it/s]\n",
      "100%|██████████| 10/10 [00:02<00:00,  3.38it/s]\n",
      "  0%|          | 0/30 [00:00<?, ?it/s]"
     ]
    },
    {
     "name": "stdout",
     "output_type": "stream",
     "text": [
      "\n",
      "Epoch:  13\n"
     ]
    },
    {
     "name": "stderr",
     "output_type": "stream",
     "text": [
      "100%|██████████| 30/30 [00:10<00:00,  2.89it/s]\n",
      "100%|██████████| 10/10 [00:02<00:00,  3.44it/s]\n",
      "  0%|          | 0/30 [00:00<?, ?it/s]"
     ]
    },
    {
     "name": "stdout",
     "output_type": "stream",
     "text": [
      "\n",
      "Epoch:  14\n"
     ]
    },
    {
     "name": "stderr",
     "output_type": "stream",
     "text": [
      "100%|██████████| 30/30 [00:10<00:00,  2.88it/s]\n",
      "100%|██████████| 10/10 [00:02<00:00,  3.44it/s]\n",
      "  0%|          | 0/30 [00:00<?, ?it/s]"
     ]
    },
    {
     "name": "stdout",
     "output_type": "stream",
     "text": [
      "\n",
      "Epoch:  15\n"
     ]
    },
    {
     "name": "stderr",
     "output_type": "stream",
     "text": [
      "100%|██████████| 30/30 [00:10<00:00,  2.84it/s]\n",
      "100%|██████████| 10/10 [00:02<00:00,  3.35it/s]\n",
      "  0%|          | 0/30 [00:00<?, ?it/s]"
     ]
    },
    {
     "name": "stdout",
     "output_type": "stream",
     "text": [
      "\n",
      "Epoch:  16\n"
     ]
    },
    {
     "name": "stderr",
     "output_type": "stream",
     "text": [
      "100%|██████████| 30/30 [00:10<00:00,  2.88it/s]\n",
      "100%|██████████| 10/10 [00:02<00:00,  3.42it/s]\n",
      "  0%|          | 0/30 [00:00<?, ?it/s]"
     ]
    },
    {
     "name": "stdout",
     "output_type": "stream",
     "text": [
      "\n",
      "Epoch:  17\n"
     ]
    },
    {
     "name": "stderr",
     "output_type": "stream",
     "text": [
      "100%|██████████| 30/30 [00:10<00:00,  2.87it/s]\n",
      "100%|██████████| 10/10 [00:02<00:00,  3.41it/s]\n",
      "  0%|          | 0/30 [00:00<?, ?it/s]"
     ]
    },
    {
     "name": "stdout",
     "output_type": "stream",
     "text": [
      "\n",
      "Epoch:  18\n"
     ]
    },
    {
     "name": "stderr",
     "output_type": "stream",
     "text": [
      "100%|██████████| 30/30 [00:10<00:00,  2.88it/s]\n",
      "100%|██████████| 10/10 [00:02<00:00,  3.46it/s]\n",
      "  0%|          | 0/30 [00:00<?, ?it/s]"
     ]
    },
    {
     "name": "stdout",
     "output_type": "stream",
     "text": [
      "\n",
      "Epoch:  19\n"
     ]
    },
    {
     "name": "stderr",
     "output_type": "stream",
     "text": [
      "100%|██████████| 30/30 [00:10<00:00,  2.90it/s]\n",
      "100%|██████████| 10/10 [00:02<00:00,  3.36it/s]\n",
      "  0%|          | 0/30 [00:00<?, ?it/s]"
     ]
    },
    {
     "name": "stdout",
     "output_type": "stream",
     "text": [
      "\n",
      "Epoch:  20\n"
     ]
    },
    {
     "name": "stderr",
     "output_type": "stream",
     "text": [
      "100%|██████████| 30/30 [00:10<00:00,  2.89it/s]\n",
      "100%|██████████| 10/10 [00:02<00:00,  3.39it/s]\n",
      "  0%|          | 0/30 [00:00<?, ?it/s]"
     ]
    },
    {
     "name": "stdout",
     "output_type": "stream",
     "text": [
      "\n",
      "Epoch:  21\n"
     ]
    },
    {
     "name": "stderr",
     "output_type": "stream",
     "text": [
      "100%|██████████| 30/30 [00:10<00:00,  2.87it/s]\n",
      "100%|██████████| 10/10 [00:02<00:00,  3.33it/s]\n",
      "  0%|          | 0/30 [00:00<?, ?it/s]"
     ]
    },
    {
     "name": "stdout",
     "output_type": "stream",
     "text": [
      "\n",
      "Epoch:  22\n"
     ]
    },
    {
     "name": "stderr",
     "output_type": "stream",
     "text": [
      "100%|██████████| 30/30 [00:10<00:00,  2.94it/s]\n",
      "100%|██████████| 10/10 [00:02<00:00,  3.37it/s]\n",
      "  0%|          | 0/30 [00:00<?, ?it/s]"
     ]
    },
    {
     "name": "stdout",
     "output_type": "stream",
     "text": [
      "\n",
      "Epoch:  23\n"
     ]
    },
    {
     "name": "stderr",
     "output_type": "stream",
     "text": [
      "100%|██████████| 30/30 [00:10<00:00,  2.89it/s]\n",
      "100%|██████████| 10/10 [00:02<00:00,  3.44it/s]\n",
      "  0%|          | 0/30 [00:00<?, ?it/s]"
     ]
    },
    {
     "name": "stdout",
     "output_type": "stream",
     "text": [
      "\n",
      "Epoch:  24\n"
     ]
    },
    {
     "name": "stderr",
     "output_type": "stream",
     "text": [
      "100%|██████████| 30/30 [00:10<00:00,  2.88it/s]\n",
      "100%|██████████| 10/10 [00:02<00:00,  3.40it/s]\n",
      "  0%|          | 0/30 [00:00<?, ?it/s]"
     ]
    },
    {
     "name": "stdout",
     "output_type": "stream",
     "text": [
      "\n",
      "Epoch:  25\n"
     ]
    },
    {
     "name": "stderr",
     "output_type": "stream",
     "text": [
      "100%|██████████| 30/30 [00:10<00:00,  2.87it/s]\n",
      "100%|██████████| 10/10 [00:02<00:00,  3.38it/s]\n",
      "  0%|          | 0/30 [00:00<?, ?it/s]"
     ]
    },
    {
     "name": "stdout",
     "output_type": "stream",
     "text": [
      "\n",
      "Epoch:  26\n"
     ]
    },
    {
     "name": "stderr",
     "output_type": "stream",
     "text": [
      "100%|██████████| 30/30 [00:10<00:00,  2.89it/s]\n",
      "100%|██████████| 10/10 [00:02<00:00,  3.41it/s]\n",
      "  0%|          | 0/30 [00:00<?, ?it/s]"
     ]
    },
    {
     "name": "stdout",
     "output_type": "stream",
     "text": [
      "\n",
      "Epoch:  27\n"
     ]
    },
    {
     "name": "stderr",
     "output_type": "stream",
     "text": [
      "100%|██████████| 30/30 [00:10<00:00,  2.87it/s]\n",
      "100%|██████████| 10/10 [00:02<00:00,  3.39it/s]\n",
      "  0%|          | 0/30 [00:00<?, ?it/s]"
     ]
    },
    {
     "name": "stdout",
     "output_type": "stream",
     "text": [
      "\n",
      "Epoch:  28\n"
     ]
    },
    {
     "name": "stderr",
     "output_type": "stream",
     "text": [
      "100%|██████████| 30/30 [00:10<00:00,  2.88it/s]\n",
      "100%|██████████| 10/10 [00:02<00:00,  3.38it/s]\n",
      "  0%|          | 0/30 [00:00<?, ?it/s]"
     ]
    },
    {
     "name": "stdout",
     "output_type": "stream",
     "text": [
      "\n",
      "Epoch:  29\n"
     ]
    },
    {
     "name": "stderr",
     "output_type": "stream",
     "text": [
      "100%|██████████| 30/30 [00:10<00:00,  2.90it/s]\n",
      "100%|██████████| 10/10 [00:03<00:00,  3.31it/s]\n",
      "  0%|          | 0/30 [00:00<?, ?it/s]"
     ]
    },
    {
     "name": "stdout",
     "output_type": "stream",
     "text": [
      "\n",
      "Epoch:  30\n"
     ]
    },
    {
     "name": "stderr",
     "output_type": "stream",
     "text": [
      "100%|██████████| 30/30 [00:10<00:00,  2.84it/s]\n",
      "100%|██████████| 10/10 [00:02<00:00,  3.37it/s]\n",
      "  0%|          | 0/30 [00:00<?, ?it/s]"
     ]
    },
    {
     "name": "stdout",
     "output_type": "stream",
     "text": [
      "\n",
      "Epoch:  31\n"
     ]
    },
    {
     "name": "stderr",
     "output_type": "stream",
     "text": [
      "100%|██████████| 30/30 [00:10<00:00,  2.90it/s]\n",
      "100%|██████████| 10/10 [00:02<00:00,  3.42it/s]\n",
      "  0%|          | 0/30 [00:00<?, ?it/s]"
     ]
    },
    {
     "name": "stdout",
     "output_type": "stream",
     "text": [
      "\n",
      "Epoch:  32\n"
     ]
    },
    {
     "name": "stderr",
     "output_type": "stream",
     "text": [
      "100%|██████████| 30/30 [00:10<00:00,  2.86it/s]\n",
      "100%|██████████| 10/10 [00:02<00:00,  3.40it/s]\n",
      "  0%|          | 0/30 [00:00<?, ?it/s]"
     ]
    },
    {
     "name": "stdout",
     "output_type": "stream",
     "text": [
      "\n",
      "Epoch:  33\n"
     ]
    },
    {
     "name": "stderr",
     "output_type": "stream",
     "text": [
      "100%|██████████| 30/30 [00:10<00:00,  2.84it/s]\n",
      "100%|██████████| 10/10 [00:02<00:00,  3.38it/s]\n",
      "  0%|          | 0/30 [00:00<?, ?it/s]"
     ]
    },
    {
     "name": "stdout",
     "output_type": "stream",
     "text": [
      "\n",
      "Epoch:  34\n"
     ]
    },
    {
     "name": "stderr",
     "output_type": "stream",
     "text": [
      "100%|██████████| 30/30 [00:10<00:00,  2.86it/s]\n",
      "100%|██████████| 10/10 [00:02<00:00,  3.41it/s]\n",
      "  0%|          | 0/30 [00:00<?, ?it/s]"
     ]
    },
    {
     "name": "stdout",
     "output_type": "stream",
     "text": [
      "\n",
      "Epoch:  35\n"
     ]
    },
    {
     "name": "stderr",
     "output_type": "stream",
     "text": [
      "100%|██████████| 30/30 [00:10<00:00,  2.84it/s]\n",
      "100%|██████████| 10/10 [00:02<00:00,  3.38it/s]\n",
      "  0%|          | 0/30 [00:00<?, ?it/s]"
     ]
    },
    {
     "name": "stdout",
     "output_type": "stream",
     "text": [
      "\n",
      "Epoch:  36\n"
     ]
    },
    {
     "name": "stderr",
     "output_type": "stream",
     "text": [
      "100%|██████████| 30/30 [00:10<00:00,  2.91it/s]\n",
      "100%|██████████| 10/10 [00:02<00:00,  3.40it/s]\n",
      "  0%|          | 0/30 [00:00<?, ?it/s]"
     ]
    },
    {
     "name": "stdout",
     "output_type": "stream",
     "text": [
      "\n",
      "Epoch:  37\n"
     ]
    },
    {
     "name": "stderr",
     "output_type": "stream",
     "text": [
      "100%|██████████| 30/30 [00:10<00:00,  2.81it/s]\n",
      "100%|██████████| 10/10 [00:02<00:00,  3.41it/s]\n",
      "  0%|          | 0/30 [00:00<?, ?it/s]"
     ]
    },
    {
     "name": "stdout",
     "output_type": "stream",
     "text": [
      "\n",
      "Epoch:  38\n"
     ]
    },
    {
     "name": "stderr",
     "output_type": "stream",
     "text": [
      "100%|██████████| 30/30 [00:10<00:00,  2.87it/s]\n",
      "100%|██████████| 10/10 [00:02<00:00,  3.40it/s]\n",
      "  0%|          | 0/30 [00:00<?, ?it/s]"
     ]
    },
    {
     "name": "stdout",
     "output_type": "stream",
     "text": [
      "\n",
      "Epoch:  39\n"
     ]
    },
    {
     "name": "stderr",
     "output_type": "stream",
     "text": [
      "100%|██████████| 30/30 [00:10<00:00,  2.94it/s]\n",
      "100%|██████████| 10/10 [00:03<00:00,  3.32it/s]\n"
     ]
    },
    {
     "name": "stdout",
     "output_type": "stream",
     "text": [
      "\n",
      "runing time: 0:09:01.484974\n"
     ]
    }
   ],
   "source": [
    "# load model\n",
    "# model.load_state_dict(torch.load('model.pt'))\n",
    "\n",
    "\n",
    "torch.manual_seed(0)\n",
    "torch.backends.cudnn.deterministic = False\n",
    "torch.backends.cudnn.benchmark = True\n",
    "\n",
    "model = SVHN_Model1().cuda()\n",
    "# 损失函数\n",
    "criterion = nn.CrossEntropyLoss(size_average=False)\n",
    "# 优化器\n",
    "optimizer = torch.optim.Adam(model.parameters(), 0.001, weight_decay=0.0005)\n",
    "best_loss = 1000.0\n",
    "\n",
    "\n",
    "train_loss_plot = list()\n",
    "val_loss_plot = list()\n",
    "val_acc_plot = list()\n",
    "\n",
    "# writer = SummaryWriter('log')\n",
    "writer = SummaryWriter()\n",
    "\n",
    "from datetime import datetime\n",
    "now = datetime.now()\n",
    "\n",
    "for epoch in range(40):\n",
    "    print('\\nEpoch: ', epoch)\n",
    "    if epoch == 5: optimizer = torch.optim.Adam(model.parameters(), 0.0001, weight_decay=0.0005)\n",
    "    if epoch == 10: optimizer = torch.optim.Adam(model.parameters(), 0.00001, weight_decay=0.0005)\n",
    "\n",
    "    train_loss = train(train_loader, model, criterion, optimizer, epoch)\n",
    "    val_loss, val_acc = validate(val_loader, model, criterion)# val_predict: shape(10000, 44)\n",
    "\n",
    "    \n",
    "    # 记录下验证集精度\n",
    "    if val_loss < best_loss:\n",
    "        best_loss = val_loss\n",
    "        torch.save(model.state_dict(), './model.pt')\n",
    "    \n",
    "    train_loss_plot.append(train_loss)\n",
    "    val_loss_plot.append(val_loss)\n",
    "    val_acc_plot.append(val_acc)\n",
    "    writer.add_scalar('Loss/train', float(train_loss), epoch)\n",
    "    writer.add_scalar('Loss/validation', float(val_loss), epoch)\n",
    "    writer.add_scalar('val_acc', float(val_acc), epoch)\n",
    "\n",
    "writer.close()\n",
    "\n",
    "print(\"\\nruning time:\", datetime.now() - now)"
   ]
  },
  {
   "cell_type": "code",
   "execution_count": 43,
   "metadata": {},
   "outputs": [
    {
     "data": {
      "image/png": "[encoded data removed]",
      "text/plain": [
       "<Figure size 432x288 with 1 Axes>"
      ]
     },
     "metadata": {
      "needs_background": "light"
     },
     "output_type": "display_data"
    },
    {
     "data": {
      "image/png": "[encoded data removed]",
      "text/plain": [
       "<Figure size 432x288 with 1 Axes>"
      ]
     },
     "metadata": {
      "needs_background": "light"
     },
     "output_type": "display_data"
    },
    {
     "data": {
      "image/png": "[encoded data removed]",
      "text/plain": [
       "<Figure size 432x288 with 1 Axes>"
      ]
     },
     "metadata": {
      "needs_background": "light"
     },
     "output_type": "display_data"
    },
    {
     "name": "stdout",
     "output_type": "stream",
     "text": [
      "\n",
      "train_loss: [1.3849942048390707, 0.8699324786663055, 0.660733413696289, 0.5594982077678045, 0.5076411217451096, 0.41486676534016925, 0.3761829207340876, 0.3588819146156311, 0.3477372566858927, 0.33659870326519015, 0.319500137368838, 0.31263902187347414, 0.3108353724082311, 0.30835444331169126, 0.3061265885829926, 0.30400522947311404, 0.30328318079312644, 0.30038204590479534, 0.3032460828622182, 0.30053451855977376, 0.29880346556504567, 0.29599630534648896, 0.29296357234319054, 0.29392283260822294, 0.29106833736101784, 0.28963791131973265, 0.28570404052734377, 0.2856921116511027, 0.2830266147851944, 0.2837974155942599, 0.2761359443267187, 0.278174098332723, 0.27730701069037117, 0.2745299314459165, 0.27403319080670674, 0.2736542339126269, 0.27033384491999946, 0.26846213539441427, 0.2667144238948822, 0.2671970541278521] \n",
      "\n",
      "max: 1.3849942048390707\n",
      "\n",
      "val_loss: [1.5571483492851257, 0.8890052258968353, 0.8456224858760834, 0.8323147118091583, 0.7016604900360107, 0.5967645823955536, 0.586197829246521, 0.5796234011650085, 0.5797268152236938, 0.5807334244251251, 0.577726012468338, 0.5744025945663452, 0.5756560683250427, 0.5739356696605682, 0.576893788576126, 0.5782051146030426, 0.5764132559299469, 0.5786067545413971, 0.5778316259384155, 0.5773640930652618, 0.5764097094535827, 0.572436261177063, 0.5777873873710633, 0.5806699573993683, 0.5783438384532928, 0.573503291606903, 0.577813196182251, 0.5810085117816925, 0.5818134307861328, 0.5801900863647461, 0.5837188839912415, 0.5860542237758637, 0.5857086181640625, 0.5829428553581237, 0.58874591588974, 0.5841342151165009, 0.5846108138561249, 0.5934176623821259, 0.585714590549469, 0.5914887905120849] \n",
      "\n",
      "max: 1.5571483492851257\n",
      "\n",
      "val_acc: [0.0969, 0.2759, 0.359, 0.3767, 0.4497, 0.5376, 0.5444, 0.5541, 0.5573, 0.5582, 0.5671, 0.5684, 0.571, 0.5722, 0.5705, 0.5696, 0.5697, 0.5696, 0.571, 0.5699, 0.5712, 0.5713, 0.5715, 0.5739, 0.5728, 0.5752, 0.5735, 0.5728, 0.5707, 0.5745, 0.5744, 0.574, 0.5751, 0.5735, 0.5733, 0.5747, 0.5758, 0.5745, 0.5774, 0.5776] \n",
      "\n",
      "max: 0.5776\n"
     ]
    }
   ],
   "source": [
    "plt.plot(train_loss_plot)\n",
    "plt.xlabel(\"Epoch\")\n",
    "plt.ylabel(\"train_loss\")\n",
    "plt.show()\n",
    "\n",
    "plt.plot(val_loss_plot)\n",
    "plt.xlabel(\"Epoch\")\n",
    "plt.ylabel(\"val_loss\")\n",
    "plt.show()\n",
    "\n",
    "plt.plot(val_acc_plot)\n",
    "plt.xlabel(\"Epoch\")\n",
    "plt.ylabel(\"val_acc\")\n",
    "plt.show()\n",
    "\n",
    "print(\"\\ntrain_loss:\", train_loss_plot, \"\\n\\nmax:\", max(train_loss_plot))\n",
    "print(\"\\nval_loss:\", val_loss_plot, \"\\n\\nmax:\", max(val_loss_plot))\n",
    "print(\"\\nval_acc:\", val_acc_plot, \"\\n\\nmax:\", max(val_acc_plot))\n"
   ]
  },
  {
   "cell_type": "code",
   "execution_count": null,
   "metadata": {},
   "outputs": [],
   "source": []
  },
  {
   "cell_type": "code",
   "execution_count": null,
   "metadata": {},
   "outputs": [],
   "source": []
  }
 ],
 "metadata": {
  "interpreter": {
   "hash": "f3b9b828f383373597d353e22ddc5577ec47150a1819a90192bb3706a239b968"
  },
  "kernelspec": {
   "display_name": "Python 3",
   "language": "python",
   "name": "python3"
  },
  "language_info": {
   "codemirror_mode": {
    "name": "ipython",
    "version": 3
   },
   "file_extension": ".py",
   "mimetype": "text/x-python",
   "name": "python",
   "nbconvert_exporter": "python",
   "pygments_lexer": "ipython3",
   "version": "3.6.12"
  }
 },
 "nbformat": 4,
 "nbformat_minor": 2
}
